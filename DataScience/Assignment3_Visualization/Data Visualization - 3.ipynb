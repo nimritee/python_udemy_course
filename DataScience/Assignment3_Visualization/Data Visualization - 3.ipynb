{
 "cells": [
  {
   "cell_type": "code",
   "execution_count": 19,
   "id": "1d5d81af",
   "metadata": {},
   "outputs": [],
   "source": [
    "import pandas as pd\n",
    "import matplotlib.pyplot as plt"
   ]
  },
  {
   "cell_type": "code",
   "execution_count": 20,
   "id": "2a6b538e",
   "metadata": {},
   "outputs": [],
   "source": [
    "# Read the csv data\n",
    "data = pd.read_csv('data3.csv')"
   ]
  },
  {
   "cell_type": "code",
   "execution_count": 22,
   "id": "192dff63",
   "metadata": {},
   "outputs": [
    {
     "data": {
      "text/plain": [
       "151-175    241\n",
       "126-150    167\n",
       "101-125     61\n",
       "76-100      49\n",
       "50-75       25\n",
       "176-200      1\n",
       "Name: bar_bins, dtype: int64"
      ]
     },
     "execution_count": 22,
     "metadata": {},
     "output_type": "execute_result"
    }
   ],
   "source": [
    "# Create bins, for plotting the data\n",
    "data['bar_bins'] = pd.cut(data.height,bins=[50,75,100,125,150,175,200],labels=['50-75','76-100','101-125','126-150','151-175','176-200'],ordered=False)\n",
    "bar_data= data['bar_bins'].value_counts()\n",
    "bar_data"
   ]
  },
  {
   "cell_type": "code",
   "execution_count": 4,
   "id": "313556e5",
   "metadata": {},
   "outputs": [
    {
     "data": {
      "image/png": "[encoded data removed]",
      "text/plain": [
       "<Figure size 432x288 with 1 Axes>"
      ]
     },
     "metadata": {
      "needs_background": "light"
     },
     "output_type": "display_data"
    }
   ],
   "source": [
    "# Plot the Graph\n",
    "plt.bar(bar_data['index'], bar_data['bar_bins'])\n",
    "plt.ylabel('Count')\n",
    "plt.xlabel('Height')\n",
    "plt.title('Barplot: Height of people in !Kung San')\n",
    "plt.show()"
   ]
  }
 ],
 "metadata": {
  "kernelspec": {
   "display_name": "Python 3 (ipykernel)",
   "language": "python",
   "name": "python3"
  },
  "language_info": {
   "codemirror_mode": {
    "name": "ipython",
    "version": 3
   },
   "file_extension": ".py",
   "mimetype": "text/x-python",
   "name": "python",
   "nbconvert_exporter": "python",
   "pygments_lexer": "ipython3",
   "version": "3.9.7"
  }
 },
 "nbformat": 4,
 "nbformat_minor": 5
}
