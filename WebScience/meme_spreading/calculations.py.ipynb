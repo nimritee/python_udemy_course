{
 "cells": [
  {
   "cell_type": "code",
   "execution_count": 1,
   "id": "f0c0397c",
   "metadata": {},
   "outputs": [],
   "source": [
    "import pandas as pd"
   ]
  },
  {
   "cell_type": "code",
   "execution_count": 12,
   "id": "74865aca",
   "metadata": {},
   "outputs": [
    {
     "data": {
      "text/html": [
       "<div>\n",
       "<style scoped>\n",
       "    .dataframe tbody tr th:only-of-type {\n",
       "        vertical-align: middle;\n",
       "    }\n",
       "\n",
       "    .dataframe tbody tr th {\n",
       "        vertical-align: top;\n",
       "    }\n",
       "\n",
       "    .dataframe thead th {\n",
       "        text-align: right;\n",
       "    }\n",
       "</style>\n",
       "<table border=\"1\" class=\"dataframe\">\n",
       "  <thead>\n",
       "    <tr style=\"text-align: right;\">\n",
       "      <th></th>\n",
       "      <th>0</th>\n",
       "    </tr>\n",
       "  </thead>\n",
       "  <tbody>\n",
       "    <tr>\n",
       "      <th>0</th>\n",
       "      <td>webcom09\\t2008-11-11\\t#webcom08</td>\n",
       "    </tr>\n",
       "    <tr>\n",
       "      <th>1</th>\n",
       "      <td>kirsn\\t2008-11-11\\t#cassandra</td>\n",
       "    </tr>\n",
       "    <tr>\n",
       "      <th>2</th>\n",
       "      <td>mediahatch\\t2008-11-11\\t#pubcon</td>\n",
       "    </tr>\n",
       "    <tr>\n",
       "      <th>3</th>\n",
       "      <td>Give_Respect\\t2008-11-11\\t#107</td>\n",
       "    </tr>\n",
       "    <tr>\n",
       "      <th>4</th>\n",
       "      <td>Nathan_Safran\\t2008-11-11\\t#2</td>\n",
       "    </tr>\n",
       "    <tr>\n",
       "      <th>...</th>\n",
       "      <td>...</td>\n",
       "    </tr>\n",
       "    <tr>\n",
       "      <th>926502</th>\n",
       "      <td>notfortourists\\t2009-10-13\\t#traveltuesday</td>\n",
       "    </tr>\n",
       "    <tr>\n",
       "      <th>926503</th>\n",
       "      <td>SOME_DC\\t2009-10-13\\t#thanksgiving:</td>\n",
       "    </tr>\n",
       "    <tr>\n",
       "      <th>926504</th>\n",
       "      <td>JulieBauke\\t2009-10-13\\t#jobsearch</td>\n",
       "    </tr>\n",
       "    <tr>\n",
       "      <th>926505</th>\n",
       "      <td>Twitt_er_Bloke\\t2009-10-13\\t#animation #toystor</td>\n",
       "    </tr>\n",
       "    <tr>\n",
       "      <th>926506</th>\n",
       "      <td>BenWard\\t2009-10-13\\t#yshuttle</td>\n",
       "    </tr>\n",
       "  </tbody>\n",
       "</table>\n",
       "<p>926507 rows × 1 columns</p>\n",
       "</div>"
      ],
      "text/plain": [
       "                                                      0\n",
       "0                       webcom09\\t2008-11-11\\t#webcom08\n",
       "1                         kirsn\\t2008-11-11\\t#cassandra\n",
       "2                       mediahatch\\t2008-11-11\\t#pubcon\n",
       "3                        Give_Respect\\t2008-11-11\\t#107\n",
       "4                         Nathan_Safran\\t2008-11-11\\t#2\n",
       "...                                                 ...\n",
       "926502       notfortourists\\t2009-10-13\\t#traveltuesday\n",
       "926503              SOME_DC\\t2009-10-13\\t#thanksgiving:\n",
       "926504               JulieBauke\\t2009-10-13\\t#jobsearch\n",
       "926505  Twitt_er_Bloke\\t2009-10-13\\t#animation #toystor\n",
       "926506                   BenWard\\t2009-10-13\\t#yshuttle\n",
       "\n",
       "[926507 rows x 1 columns]"
      ]
     },
     "execution_count": 12,
     "metadata": {},
     "output_type": "execute_result"
    }
   ],
   "source": [
    "twitter_data = pd.read_fwf(\"onlyhash.data\",header=None,sep=\"  \")\n",
    "twitter_data"
   ]
  },
  {
   "cell_type": "code",
   "execution_count": null,
   "id": "dc42828f",
   "metadata": {},
   "outputs": [],
   "source": []
  }
 ],
 "metadata": {
  "kernelspec": {
   "display_name": "Python 3 (ipykernel)",
   "language": "python",
   "name": "python3"
  },
  "language_info": {
   "codemirror_mode": {
    "name": "ipython",
    "version": 3
   },
   "file_extension": ".py",
   "mimetype": "text/x-python",
   "name": "python",
   "nbconvert_exporter": "python",
   "pygments_lexer": "ipython3",
   "version": "3.9.7"
  }
 },
 "nbformat": 4,
 "nbformat_minor": 5
}
