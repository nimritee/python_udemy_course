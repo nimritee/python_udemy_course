{
 "cells": [
  {
   "cell_type": "code",
   "execution_count": 129,
   "id": "c2e4ea81",
   "metadata": {},
   "outputs": [],
   "source": [
    "import pandas as pd\n",
    "import numpy as np"
   ]
  },
  {
   "cell_type": "code",
   "execution_count": 130,
   "id": "99bd8e25",
   "metadata": {},
   "outputs": [
    {
     "data": {
      "text/html": [
       "<div>\n",
       "<style scoped>\n",
       "    .dataframe tbody tr th:only-of-type {\n",
       "        vertical-align: middle;\n",
       "    }\n",
       "\n",
       "    .dataframe tbody tr th {\n",
       "        vertical-align: top;\n",
       "    }\n",
       "\n",
       "    .dataframe thead th {\n",
       "        text-align: right;\n",
       "    }\n",
       "</style>\n",
       "<table border=\"1\" class=\"dataframe\">\n",
       "  <thead>\n",
       "    <tr style=\"text-align: right;\">\n",
       "      <th></th>\n",
       "      <th>sepal_length</th>\n",
       "      <th>sepal_width</th>\n",
       "      <th>petal_length</th>\n",
       "      <th>petal_width</th>\n",
       "      <th>species</th>\n",
       "    </tr>\n",
       "  </thead>\n",
       "  <tbody>\n",
       "    <tr>\n",
       "      <th>0</th>\n",
       "      <td>5.1</td>\n",
       "      <td>3.5</td>\n",
       "      <td>1.4</td>\n",
       "      <td>0.2</td>\n",
       "      <td>setosa</td>\n",
       "    </tr>\n",
       "    <tr>\n",
       "      <th>1</th>\n",
       "      <td>4.9</td>\n",
       "      <td>3.0</td>\n",
       "      <td>1.4</td>\n",
       "      <td>0.2</td>\n",
       "      <td>setosa</td>\n",
       "    </tr>\n",
       "    <tr>\n",
       "      <th>2</th>\n",
       "      <td>4.7</td>\n",
       "      <td>3.2</td>\n",
       "      <td>1.3</td>\n",
       "      <td>0.2</td>\n",
       "      <td>setosa</td>\n",
       "    </tr>\n",
       "    <tr>\n",
       "      <th>3</th>\n",
       "      <td>4.6</td>\n",
       "      <td>3.1</td>\n",
       "      <td>1.5</td>\n",
       "      <td>0.2</td>\n",
       "      <td>setosa</td>\n",
       "    </tr>\n",
       "    <tr>\n",
       "      <th>4</th>\n",
       "      <td>5.0</td>\n",
       "      <td>3.6</td>\n",
       "      <td>1.4</td>\n",
       "      <td>0.2</td>\n",
       "      <td>setosa</td>\n",
       "    </tr>\n",
       "    <tr>\n",
       "      <th>5</th>\n",
       "      <td>7.0</td>\n",
       "      <td>3.2</td>\n",
       "      <td>4.7</td>\n",
       "      <td>1.4</td>\n",
       "      <td>versicolor</td>\n",
       "    </tr>\n",
       "    <tr>\n",
       "      <th>6</th>\n",
       "      <td>6.4</td>\n",
       "      <td>3.2</td>\n",
       "      <td>4.5</td>\n",
       "      <td>1.5</td>\n",
       "      <td>versicolor</td>\n",
       "    </tr>\n",
       "    <tr>\n",
       "      <th>7</th>\n",
       "      <td>6.9</td>\n",
       "      <td>3.1</td>\n",
       "      <td>4.9</td>\n",
       "      <td>1.5</td>\n",
       "      <td>versicolor</td>\n",
       "    </tr>\n",
       "    <tr>\n",
       "      <th>8</th>\n",
       "      <td>5.5</td>\n",
       "      <td>2.3</td>\n",
       "      <td>4.0</td>\n",
       "      <td>1.3</td>\n",
       "      <td>versicolor</td>\n",
       "    </tr>\n",
       "    <tr>\n",
       "      <th>9</th>\n",
       "      <td>6.5</td>\n",
       "      <td>2.8</td>\n",
       "      <td>4.6</td>\n",
       "      <td>1.5</td>\n",
       "      <td>versicolor</td>\n",
       "    </tr>\n",
       "  </tbody>\n",
       "</table>\n",
       "</div>"
      ],
      "text/plain": [
       "   sepal_length  sepal_width  petal_length  petal_width     species\n",
       "0           5.1          3.5           1.4          0.2      setosa\n",
       "1           4.9          3.0           1.4          0.2      setosa\n",
       "2           4.7          3.2           1.3          0.2      setosa\n",
       "3           4.6          3.1           1.5          0.2      setosa\n",
       "4           5.0          3.6           1.4          0.2      setosa\n",
       "5           7.0          3.2           4.7          1.4  versicolor\n",
       "6           6.4          3.2           4.5          1.5  versicolor\n",
       "7           6.9          3.1           4.9          1.5  versicolor\n",
       "8           5.5          2.3           4.0          1.3  versicolor\n",
       "9           6.5          2.8           4.6          1.5  versicolor"
      ]
     },
     "execution_count": 130,
     "metadata": {},
     "output_type": "execute_result"
    }
   ],
   "source": [
    "raw_data = pd.read_excel('assignment6.xlsx', sheet_name='Sheet1')\n",
    "raw_data"
   ]
  },
  {
   "cell_type": "code",
   "execution_count": 132,
   "id": "952dceea",
   "metadata": {},
   "outputs": [
    {
     "name": "stdout",
     "output_type": "stream",
     "text": [
      "['setosa' 'setosa' 'versicolor']\n"
     ]
    }
   ],
   "source": [
    "traing_data = raw_data.sample(frac=0.7)\n",
    "testing_data = raw_data.drop(traing_data.index)\n",
    "\n",
    "X_train = traing_data.iloc[:, :-1].values\n",
    "Y_train = traing_data.iloc[:, 4].values\n",
    "\n",
    "X_test = testing_data.iloc[:, :-1].values\n",
    "Y_test = testing_data.iloc[:, 4].values\n",
    "\n",
    "print(Y_test)"
   ]
  },
  {
   "cell_type": "code",
   "execution_count": 123,
   "id": "7cf8e488",
   "metadata": {},
   "outputs": [],
   "source": [
    "def euclidean_distance(X_train,X_test):\n",
    "    min_dist = []\n",
    "    #for every example in the training set, calculate eucledien distance against the test example\n",
    "    for i,point in enumerate(X_train):\n",
    "        d1 = (point[0]-X_test[0])**2\n",
    "        d2 = (point[1]-X_test[1])**2\n",
    "        d3 = (point[2]-X_test[2])**2\n",
    "        d4 = (point[3]-X_test[3])**2\n",
    "        dist = np.sqrt(d1+d2+d3+d4)\n",
    "        #append the calculated distance in a list\n",
    "        min_dist.append((i,dist))\n",
    "    #sort distances in ascending order    \n",
    "    min_dist.sort(key = takeSecond)\n",
    "    return min_dist"
   ]
  },
  {
   "cell_type": "code",
   "execution_count": 124,
   "id": "e05a96c8",
   "metadata": {},
   "outputs": [],
   "source": [
    "def knn_algorithm(X_test, Y_train = y_train,X_train = X_train, k = 3):\n",
    "   \n",
    "    min_dist = euclidean_distance(X_train,X_test)\n",
    "    #get top k nearest neighbours\n",
    "    neighbours = min_dist[:k]\n",
    "    #get index of the minimum distances\n",
    "    idx = []\n",
    "    for tup in neighbours:\n",
    "        idx.append(tup[0])\n",
    "    #check which label has majority\n",
    "    output = Y_train[idx]\n",
    "    values, counts = np.unique(output, return_counts=True)\n",
    "    #return label with majority occurence\n",
    "    max_idx = np.argmax(counts)\n",
    "    return values[max_idx]"
   ]
  },
  {
   "cell_type": "code",
   "execution_count": 125,
   "id": "4431b5e8",
   "metadata": {},
   "outputs": [],
   "source": [
    "def takeSecond(elem):     \n",
    "   return elem[1]"
   ]
  },
  {
   "cell_type": "code",
   "execution_count": 133,
   "id": "8fffbd8e",
   "metadata": {},
   "outputs": [
    {
     "name": "stdout",
     "output_type": "stream",
     "text": [
      "[0, 0, 1]\n"
     ]
    }
   ],
   "source": [
    "#getting predicted values using our algorithm\n",
    "predictions = list(map(knn_algorithm, X_test))\n",
    "print(predictions)"
   ]
  },
  {
   "cell_type": "code",
   "execution_count": 127,
   "id": "bd017008",
   "metadata": {},
   "outputs": [],
   "source": [
    "def accuracy(pred , y_test):\n",
    "    count = 0\n",
    "    for i in range(len(pred)):\n",
    "        if pred[i] == y_test[i]:\n",
    "            count +=1\n",
    "            \n",
    "    return print(\"Accuracy =\", (count/len(pred))*100, \"%\")"
   ]
  },
  {
   "cell_type": "code",
   "execution_count": 128,
   "id": "bd98463e",
   "metadata": {},
   "outputs": [
    {
     "name": "stdout",
     "output_type": "stream",
     "text": [
      "Accuracy = 100.0 %\n"
     ]
    }
   ],
   "source": [
    "#calling the accuracy function\n",
    "accuracy(predictions, y_test)"
   ]
  }
 ],
 "metadata": {
  "kernelspec": {
   "display_name": "Python 3 (ipykernel)",
   "language": "python",
   "name": "python3"
  },
  "language_info": {
   "codemirror_mode": {
    "name": "ipython",
    "version": 3
   },
   "file_extension": ".py",
   "mimetype": "text/x-python",
   "name": "python",
   "nbconvert_exporter": "python",
   "pygments_lexer": "ipython3",
   "version": "3.9.7"
  }
 },
 "nbformat": 4,
 "nbformat_minor": 5
}
