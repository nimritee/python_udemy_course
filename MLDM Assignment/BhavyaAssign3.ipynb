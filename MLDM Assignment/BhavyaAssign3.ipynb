{
 "cells": [
  {
   "cell_type": "code",
   "execution_count": 40,
   "id": "afc00181",
   "metadata": {},
   "outputs": [],
   "source": [
    "import pandas as pd\n",
    "import matplotlib.pyplot as plt\n",
    "import seaborn as sns\n",
    "import numpy as np"
   ]
  },
  {
   "cell_type": "code",
   "execution_count": 65,
   "id": "746f6d90",
   "metadata": {},
   "outputs": [
    {
     "name": "stdout",
     "output_type": "stream",
     "text": [
      "The pearson correlation coefficients of the variables are: \n",
      "               sepal_length  sepal_width\n",
      "sepal_length       1.00000     -0.11757\n",
      "sepal_width       -0.11757      1.00000\n"
     ]
    },
    {
     "data": {
      "image/png": "[encoded data removed]",
      "text/plain": [
       "<Figure size 432x288 with 1 Axes>"
      ]
     },
     "metadata": {
      "needs_background": "light"
     },
     "output_type": "display_data"
    },
    {
     "name": "stdout",
     "output_type": "stream",
     "text": [
      "Visualization of Correlation Matrix as follows \n",
      "               sepal_length  sepal_width\n",
      "sepal_length       1.00000     -0.11757\n",
      "sepal_width       -0.11757      1.00000\n"
     ]
    },
    {
     "data": {
      "image/png": "[encoded data removed]",
      "text/plain": [
       "<Figure size 432x288 with 2 Axes>"
      ]
     },
     "metadata": {
      "needs_background": "light"
     },
     "output_type": "display_data"
    },
    {
     "name": "stdout",
     "output_type": "stream",
     "text": [
      "Z-Score of the dataset \n",
      "       sepal_length  sepal_width  petal_length  petal_width\n",
      "0       -0.897674     1.015602     -1.335752    -1.311052\n",
      "1       -1.139200    -0.131539     -1.335752    -1.311052\n",
      "2       -1.380727     0.327318     -1.392399    -1.311052\n",
      "3       -1.501490     0.097889     -1.279104    -1.311052\n",
      "4       -1.018437     1.245030     -1.335752    -1.311052\n",
      "..            ...          ...           ...          ...\n",
      "145      1.034539    -0.131539      0.816859     1.443994\n",
      "146      0.551486    -1.278680      0.703564     0.919223\n",
      "147      0.793012    -0.131539      0.816859     1.050416\n",
      "148      0.430722     0.786174      0.930154     1.443994\n",
      "149      0.068433    -0.131539      0.760211     0.788031\n",
      "\n",
      "[150 rows x 4 columns]\n",
      "For the dataset the covariance matrix is \n",
      " [[ 1.         -0.11756978  0.87175378  0.81794113]\n",
      " [-0.11756978  1.         -0.4284401  -0.36612593]\n",
      " [ 0.87175378 -0.4284401   1.          0.96286543]\n",
      " [ 0.81794113 -0.36612593  0.96286543  1.        ]]\n",
      "Covariance matrix for Eigen Values \n",
      " [2.91849782 0.91403047 0.14675688 0.02071484]\n",
      "Covariance matrix for Eigen Vectors \n",
      " [[ 0.52106591 -0.37741762 -0.71956635  0.26128628]\n",
      " [-0.26934744 -0.92329566  0.24438178 -0.12350962]\n",
      " [ 0.5804131  -0.02449161  0.14212637 -0.80144925]\n",
      " [ 0.56485654 -0.06694199  0.63427274  0.52359713]]\n"
     ]
    }
   ],
   "source": [
    "dataset = pd.read_csv(\"iris.csv\")\n",
    "dataset.head()\n",
    "correlation = define_corr('sepal_length','sepal_width')\n",
    "print(\"The pearson correlation coefficients of the variables are: \\n\",correlation)\n",
    "garph = plot_grap(dataset['sepal_length'],dataset['sepal_width'])\n",
    "cor_matrix = vis_cor('sepal_length','sepal_width')\n",
    "zs_standard = calc_zscore(dataset)\n",
    "print(\"Z-Score of the dataset \\n \",zs_standard)\n",
    "covarinace_m = calc_covmat(zs_standard)\n",
    "print(\"For the dataset the covariance matrix is \\n\",covarinace_m)\n",
    "eigen = eg_val_vec(covarinace_m)\n",
    "print(\"Covariance matrix for Eigen Values \\n\",eigen[0])\n",
    "print(\"Covariance matrix for Eigen Vectors \\n\",eigen[1])"
   ]
  },
  {
   "cell_type": "code",
   "execution_count": 3,
   "id": "610f9b7b",
   "metadata": {},
   "outputs": [],
   "source": [
    "def define_corr(varx,vary):\n",
    "    new_dataset = dataset[[varx,vary]].dropna()\n",
    "    return new_dataset.corr()"
   ]
  },
  {
   "cell_type": "code",
   "execution_count": 18,
   "id": "ee7e971f",
   "metadata": {},
   "outputs": [],
   "source": [
    "def plot_grap(varx,vary):\n",
    "    plt.scatter(varx,vary) \n",
    "    plt.show()\n",
    "    "
   ]
  },
  {
   "cell_type": "code",
   "execution_count": 31,
   "id": "8b03ffdc",
   "metadata": {},
   "outputs": [],
   "source": [
    "def vis_cor(varx,vary):\n",
    "    new_dataset = dataset[[varx,vary]].dropna()\n",
    "    cor_matrix = new_dataset.corr()\n",
    "    print('Visualization of Correlation Matrix as follows \\n',cor_matrix)\n",
    "    sns.heatmap(cor_matrix)\n",
    "    plt.show()"
   ]
  },
  {
   "cell_type": "code",
   "execution_count": 64,
   "id": "a61b7ed2",
   "metadata": {},
   "outputs": [],
   "source": [
    "def calc_zscore(dataset):\n",
    "    dataset = dataset.dropna()\n",
    "    zdata = dataset.select_dtypes(float)\n",
    "    zdf = (zdata-zdata.mean())/(zdata.std())\n",
    "    return zdf\n",
    "#     data = data.select_dtypes(float)\n",
    "#     data_z = data.to_numpy()\n",
    "#     data_z_np = (data_z - np.mean(data_z, axis=0)) / np.std(data_z, axis=0)\n",
    "#     data_z_np_df = pd.DataFrame(data_z_np,index=data.index,columns=data.columns)\n",
    "#     return data_z_np_df"
   ]
  },
  {
   "cell_type": "code",
   "execution_count": 59,
   "id": "5998b765",
   "metadata": {},
   "outputs": [],
   "source": [
    "def calc_covmat(zs_standard):\n",
    "    covarinace_m = np.cov(zs_standard.T)\n",
    "    return covarinace_m"
   ]
  },
  {
   "cell_type": "code",
   "execution_count": 47,
   "id": "b684d438",
   "metadata": {},
   "outputs": [],
   "source": [
    "def eg_val_vec(covarinace_m):\n",
    "    egvalues, egvectors = np.linalg.eig(covarinace_m)\n",
    "    return [egvalues,egvectors]"
   ]
  },
  {
   "cell_type": "code",
   "execution_count": null,
   "id": "e373207c",
   "metadata": {},
   "outputs": [],
   "source": []
  }
 ],
 "metadata": {
  "kernelspec": {
   "display_name": "Python 3 (ipykernel)",
   "language": "python",
   "name": "python3"
  },
  "language_info": {
   "codemirror_mode": {
    "name": "ipython",
    "version": 3
   },
   "file_extension": ".py",
   "mimetype": "text/x-python",
   "name": "python",
   "nbconvert_exporter": "python",
   "pygments_lexer": "ipython3",
   "version": "3.9.7"
  }
 },
 "nbformat": 4,
 "nbformat_minor": 5
}
