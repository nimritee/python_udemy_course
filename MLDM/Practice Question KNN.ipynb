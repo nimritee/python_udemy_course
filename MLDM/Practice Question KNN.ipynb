{
 "cells": [
  {
   "cell_type": "code",
   "execution_count": 1,
   "id": "fff7b56e",
   "metadata": {},
   "outputs": [],
   "source": [
    "import pandas as pd\n",
    "import numpy as np\n",
    "import operator"
   ]
  },
  {
   "cell_type": "code",
   "execution_count": 2,
   "id": "be6c144f",
   "metadata": {},
   "outputs": [
    {
     "data": {
      "text/html": [
       "<div>\n",
       "<style scoped>\n",
       "    .dataframe tbody tr th:only-of-type {\n",
       "        vertical-align: middle;\n",
       "    }\n",
       "\n",
       "    .dataframe tbody tr th {\n",
       "        vertical-align: top;\n",
       "    }\n",
       "\n",
       "    .dataframe thead th {\n",
       "        text-align: right;\n",
       "    }\n",
       "</style>\n",
       "<table border=\"1\" class=\"dataframe\">\n",
       "  <thead>\n",
       "    <tr style=\"text-align: right;\">\n",
       "      <th></th>\n",
       "      <th>Height</th>\n",
       "      <th>Weight</th>\n",
       "      <th>Age</th>\n",
       "      <th>Income</th>\n",
       "    </tr>\n",
       "  </thead>\n",
       "  <tbody>\n",
       "    <tr>\n",
       "      <th>0</th>\n",
       "      <td>5.30</td>\n",
       "      <td>67</td>\n",
       "      <td>22</td>\n",
       "      <td>high</td>\n",
       "    </tr>\n",
       "    <tr>\n",
       "      <th>1</th>\n",
       "      <td>5.70</td>\n",
       "      <td>76</td>\n",
       "      <td>27</td>\n",
       "      <td>high</td>\n",
       "    </tr>\n",
       "    <tr>\n",
       "      <th>2</th>\n",
       "      <td>5.11</td>\n",
       "      <td>58</td>\n",
       "      <td>26</td>\n",
       "      <td>high</td>\n",
       "    </tr>\n",
       "    <tr>\n",
       "      <th>3</th>\n",
       "      <td>5.10</td>\n",
       "      <td>62</td>\n",
       "      <td>21</td>\n",
       "      <td>low</td>\n",
       "    </tr>\n",
       "    <tr>\n",
       "      <th>4</th>\n",
       "      <td>4.20</td>\n",
       "      <td>67</td>\n",
       "      <td>23</td>\n",
       "      <td>low</td>\n",
       "    </tr>\n",
       "    <tr>\n",
       "      <th>5</th>\n",
       "      <td>5.60</td>\n",
       "      <td>89</td>\n",
       "      <td>24</td>\n",
       "      <td>high</td>\n",
       "    </tr>\n",
       "  </tbody>\n",
       "</table>\n",
       "</div>"
      ],
      "text/plain": [
       "   Height  Weight  Age Income\n",
       "0    5.30      67   22   high\n",
       "1    5.70      76   27   high\n",
       "2    5.11      58   26   high\n",
       "3    5.10      62   21    low\n",
       "4    4.20      67   23    low\n",
       "5    5.60      89   24   high"
      ]
     },
     "execution_count": 2,
     "metadata": {},
     "output_type": "execute_result"
    }
   ],
   "source": [
    "data =[[5.3,67,22,'high'],[5.7,76,27,'high'],[5.11,58,26,'high'],[5.1,62,21,'low'],[4.2,67,23,'low'],[5.6,89,24,'high']]\n",
    "raw_data = pd.DataFrame(data, columns = ['Height', 'Weight','Age','Income'])\n",
    "raw_data"
   ]
  },
  {
   "cell_type": "code",
   "execution_count": 3,
   "id": "2647ebb1",
   "metadata": {},
   "outputs": [],
   "source": [
    "# Function for calculating the Euclidean Distance\n",
    "def euclidean_distance(point1, point2):\n",
    "    distance = 0\n",
    "    for x in range(point1.shape[1]):\n",
    "        distance += np.square(point1[x] - point2[x])\n",
    "    return np.sqrt(distance)"
   ]
  },
  {
   "cell_type": "code",
   "execution_count": 4,
   "id": "857119fa",
   "metadata": {},
   "outputs": [],
   "source": [
    "# Implementing the KNN Algorithm\n",
    "def knn_algorithm(raw_data, testing_data, k):\n",
    "    \n",
    "    # Calculate the Euclidean distnace \n",
    "    distances = {}\n",
    "    for x in range(len(raw_data)):\n",
    "        eu_distance = euclidean_distance(testing_data, raw_data.iloc[x])\n",
    "        distances[x] = eu_distance[0]\n",
    "    sorted_distance = sorted(distances.items(), key=operator.itemgetter(1))\n",
    "    \n",
    "    # Determine the Neihbours\n",
    "    neighbors = []\n",
    "    for x in range(k):\n",
    "        neighbors.append(sorted_distance[x][0])\n",
    "    \n",
    "    # Determine the most frequent species of data\n",
    "    counter = {}  \n",
    "    for x in range(len(neighbors)):\n",
    "        response = raw_data.iloc[neighbors[x]][-1]\n",
    "        if response in counter:\n",
    "            counter[response] += 1\n",
    "        else:\n",
    "            counter[response] = 1\n",
    "            \n",
    "    sorted_counter = sorted(counter.items(), key=operator.itemgetter(1), reverse=True)\n",
    "    return (sorted_counter[0][0])"
   ]
  },
  {
   "cell_type": "code",
   "execution_count": 5,
   "id": "102d725a",
   "metadata": {},
   "outputs": [],
   "source": [
    "# Creating test data, using the given table data\n",
    "table_data = [[5.8,80,27]]\n",
    "testing_data = pd.DataFrame(table_data)"
   ]
  },
  {
   "cell_type": "code",
   "execution_count": null,
   "id": "9c6e74c6",
   "metadata": {},
   "outputs": [],
   "source": []
  }
 ],
 "metadata": {
  "kernelspec": {
   "display_name": "Python 3 (ipykernel)",
   "language": "python",
   "name": "python3"
  },
  "language_info": {
   "codemirror_mode": {
    "name": "ipython",
    "version": 3
   },
   "file_extension": ".py",
   "mimetype": "text/x-python",
   "name": "python",
   "nbconvert_exporter": "python",
   "pygments_lexer": "ipython3",
   "version": "3.9.7"
  }
 },
 "nbformat": 4,
 "nbformat_minor": 5
}
