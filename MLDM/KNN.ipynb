{
 "cells": [
  {
   "cell_type": "code",
   "execution_count": 127,
   "id": "ac216435",
   "metadata": {},
   "outputs": [],
   "source": [
    "import pandas as pd\n",
    "import numpy as np\n",
    "import operator"
   ]
  },
  {
   "cell_type": "code",
   "execution_count": 128,
   "id": "9a9efb46",
   "metadata": {},
   "outputs": [
    {
     "data": {
      "text/html": [
       "<div>\n",
       "<style scoped>\n",
       "    .dataframe tbody tr th:only-of-type {\n",
       "        vertical-align: middle;\n",
       "    }\n",
       "\n",
       "    .dataframe tbody tr th {\n",
       "        vertical-align: top;\n",
       "    }\n",
       "\n",
       "    .dataframe thead th {\n",
       "        text-align: right;\n",
       "    }\n",
       "</style>\n",
       "<table border=\"1\" class=\"dataframe\">\n",
       "  <thead>\n",
       "    <tr style=\"text-align: right;\">\n",
       "      <th></th>\n",
       "      <th>sepal_length</th>\n",
       "      <th>sepal_width</th>\n",
       "      <th>petal_length</th>\n",
       "      <th>petal_width</th>\n",
       "      <th>species</th>\n",
       "    </tr>\n",
       "  </thead>\n",
       "  <tbody>\n",
       "    <tr>\n",
       "      <th>0</th>\n",
       "      <td>5.1</td>\n",
       "      <td>3.5</td>\n",
       "      <td>1.4</td>\n",
       "      <td>0.2</td>\n",
       "      <td>setosa</td>\n",
       "    </tr>\n",
       "    <tr>\n",
       "      <th>1</th>\n",
       "      <td>4.9</td>\n",
       "      <td>3.0</td>\n",
       "      <td>1.4</td>\n",
       "      <td>0.2</td>\n",
       "      <td>setosa</td>\n",
       "    </tr>\n",
       "    <tr>\n",
       "      <th>2</th>\n",
       "      <td>4.7</td>\n",
       "      <td>3.2</td>\n",
       "      <td>1.3</td>\n",
       "      <td>0.2</td>\n",
       "      <td>setosa</td>\n",
       "    </tr>\n",
       "    <tr>\n",
       "      <th>3</th>\n",
       "      <td>4.6</td>\n",
       "      <td>3.1</td>\n",
       "      <td>1.5</td>\n",
       "      <td>0.2</td>\n",
       "      <td>setosa</td>\n",
       "    </tr>\n",
       "    <tr>\n",
       "      <th>4</th>\n",
       "      <td>5.0</td>\n",
       "      <td>3.6</td>\n",
       "      <td>1.4</td>\n",
       "      <td>0.2</td>\n",
       "      <td>setosa</td>\n",
       "    </tr>\n",
       "    <tr>\n",
       "      <th>5</th>\n",
       "      <td>7.0</td>\n",
       "      <td>3.2</td>\n",
       "      <td>4.7</td>\n",
       "      <td>1.4</td>\n",
       "      <td>versicolor</td>\n",
       "    </tr>\n",
       "    <tr>\n",
       "      <th>6</th>\n",
       "      <td>6.4</td>\n",
       "      <td>3.2</td>\n",
       "      <td>4.5</td>\n",
       "      <td>1.5</td>\n",
       "      <td>versicolor</td>\n",
       "    </tr>\n",
       "    <tr>\n",
       "      <th>7</th>\n",
       "      <td>6.9</td>\n",
       "      <td>3.1</td>\n",
       "      <td>4.9</td>\n",
       "      <td>1.5</td>\n",
       "      <td>versicolor</td>\n",
       "    </tr>\n",
       "    <tr>\n",
       "      <th>8</th>\n",
       "      <td>5.5</td>\n",
       "      <td>2.3</td>\n",
       "      <td>4.0</td>\n",
       "      <td>1.3</td>\n",
       "      <td>versicolor</td>\n",
       "    </tr>\n",
       "    <tr>\n",
       "      <th>9</th>\n",
       "      <td>6.5</td>\n",
       "      <td>2.8</td>\n",
       "      <td>4.6</td>\n",
       "      <td>1.5</td>\n",
       "      <td>versicolor</td>\n",
       "    </tr>\n",
       "  </tbody>\n",
       "</table>\n",
       "</div>"
      ],
      "text/plain": [
       "   sepal_length  sepal_width  petal_length  petal_width     species\n",
       "0           5.1          3.5           1.4          0.2      setosa\n",
       "1           4.9          3.0           1.4          0.2      setosa\n",
       "2           4.7          3.2           1.3          0.2      setosa\n",
       "3           4.6          3.1           1.5          0.2      setosa\n",
       "4           5.0          3.6           1.4          0.2      setosa\n",
       "5           7.0          3.2           4.7          1.4  versicolor\n",
       "6           6.4          3.2           4.5          1.5  versicolor\n",
       "7           6.9          3.1           4.9          1.5  versicolor\n",
       "8           5.5          2.3           4.0          1.3  versicolor\n",
       "9           6.5          2.8           4.6          1.5  versicolor"
      ]
     },
     "execution_count": 128,
     "metadata": {},
     "output_type": "execute_result"
    }
   ],
   "source": [
    "# Load the data\n",
    "raw_data = pd.read_excel('assignment6.xlsx', sheet_name='Sheet1')\n",
    "raw_data"
   ]
  },
  {
   "cell_type": "code",
   "execution_count": 129,
   "id": "72ec104e",
   "metadata": {},
   "outputs": [],
   "source": [
    "# Function for calculating the Euclidean Distance\n",
    "def euclidean_distance(point1, point2):\n",
    "    distance = 0\n",
    "    for x in range(point1.shape[1]):\n",
    "        distance += np.square(point1[x] - point2[x])\n",
    "    return np.sqrt(distance)"
   ]
  },
  {
   "cell_type": "code",
   "execution_count": 130,
   "id": "18ae140a",
   "metadata": {},
   "outputs": [],
   "source": [
    "# Implementing the KNN Algorithm\n",
    "def knn_algorithm(raw_data, testing_data, k):\n",
    "    \n",
    "    # Calculate the Euclidean distnace \n",
    "    distances = {}\n",
    "    for x in range(len(raw_data)):\n",
    "        eu_distance = euclidean_distance(testing_data, raw_data.iloc[x])\n",
    "        distances[x] = eu_distance[0]\n",
    "    sorted_distance = sorted(distances.items(), key=operator.itemgetter(1))\n",
    "    \n",
    "    # Determine the Neihbours\n",
    "    neighbors = []\n",
    "    for x in range(k):\n",
    "        neighbors.append(sorted_distance[x][0])\n",
    "    \n",
    "    # Determine the most frequent species of data\n",
    "    counter = {}  \n",
    "    for x in range(len(neighbors)):\n",
    "        response = raw_data.iloc[neighbors[x]][-1]\n",
    "        if response in counter:\n",
    "            counter[response] += 1\n",
    "        else:\n",
    "            counter[response] = 1\n",
    "            \n",
    "    sorted_counter = sorted(counter.items(), key=operator.itemgetter(1), reverse=True)\n",
    "    return (sorted_counter[0][0])"
   ]
  },
  {
   "cell_type": "code",
   "execution_count": 131,
   "id": "bbdd5c43",
   "metadata": {},
   "outputs": [],
   "source": [
    "# Creating test data, using the given table data\n",
    "table_data = [[8.2, 2.6, 3.2, 1.8]]\n",
    "testing_data = pd.DataFrame(table_data)"
   ]
  },
  {
   "cell_type": "code",
   "execution_count": 132,
   "id": "98b7d6f5",
   "metadata": {},
   "outputs": [
    {
     "name": "stdout",
     "output_type": "stream",
     "text": [
      "For K=3, the predicted label for Species =versicolor\n",
      "For K=5, the predicted label for Species =versicolor\n",
      "For K=7, the predicted label for Species =versicolor\n"
     ]
    }
   ],
   "source": [
    "# To predict the label for the data in the table below, when you choose K=3 and K=5 and K=7\n",
    "for k in [3,5,7]:\n",
    "    prediction = knn_algorithm(raw_data,testing_data, k)\n",
    "    print(\"For K={}, the predicted label for Species ={}\".format(k,prediction))"
   ]
  }
 ],
 "metadata": {
  "kernelspec": {
   "display_name": "Python 3 (ipykernel)",
   "language": "python",
   "name": "python3"
  },
  "language_info": {
   "codemirror_mode": {
    "name": "ipython",
    "version": 3
   },
   "file_extension": ".py",
   "mimetype": "text/x-python",
   "name": "python",
   "nbconvert_exporter": "python",
   "pygments_lexer": "ipython3",
   "version": "3.9.7"
  }
 },
 "nbformat": 4,
 "nbformat_minor": 5
}
