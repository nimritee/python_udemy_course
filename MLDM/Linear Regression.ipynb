{
 "cells": [
  {
   "cell_type": "code",
   "execution_count": 119,
   "id": "af826187",
   "metadata": {},
   "outputs": [],
   "source": [
    "import pandas as pd\n",
    "import numpy as np\n",
    "from math import sqrt"
   ]
  },
  {
   "cell_type": "code",
   "execution_count": 120,
   "id": "ad8b9fe1",
   "metadata": {},
   "outputs": [],
   "source": [
    "# Loading the Training and the Testing Data\n",
    "raw_data = pd.read_csv(\"train.csv\")\n",
    "test_data = pd.read_csv(\"test.csv\")\n",
    "\n",
    "# To delete the rows that contain NaN values\n",
    "data = raw_data.dropna()\n",
    "\n",
    "# Assigning the X and Y values\n",
    "X = data['x'].values\n",
    "Y = data['y'].values"
   ]
  },
  {
   "cell_type": "code",
   "execution_count": 121,
   "id": "d3ae794c",
   "metadata": {},
   "outputs": [],
   "source": [
    "# Function to find the estimate coefficients of the linear regression line\n",
    "def coefficients(X,Y):\n",
    "    x_mean = np.mean(X)\n",
    "    y_mean = np.mean(Y)\n",
    "    w1= w0 = 0\n",
    "    for i in range(len(X)):\n",
    "        w1 += ((X[i]-x_mean) * (Y[i]-y_mean))\n",
    "        w0 += (X[i] - x_mean)**2\n",
    "    w1=w1/w0\n",
    "    w0=y_mean - (m*x_mean)\n",
    "    return w1,w0"
   ]
  },
  {
   "cell_type": "code",
   "execution_count": 122,
   "id": "69452d62",
   "metadata": {},
   "outputs": [],
   "source": [
    "# Function to preidct the value using the coefficients of the model\n",
    "def predict_values(w1,w0,X):\n",
    "    predicted_value = w1*X + w0\n",
    "    return predicted_value"
   ]
  },
  {
   "cell_type": "code",
   "execution_count": 123,
   "id": "b582a6c8",
   "metadata": {},
   "outputs": [],
   "source": [
    "# Function to find the RMSE\n",
    "def root_mean_square_error(w1,w0,Y_test,Y_predict):\n",
    "    error_sum = 0\n",
    "    for i in range(len(Y_test)):\n",
    "        error = Y_predict[i] - Y_test[i]\n",
    "        error_sum += (error * error)\n",
    "    error_mean = error_sum / len(Y_test)\n",
    "    rmse = sqrt(error_mean)\n",
    "    return rmse"
   ]
  },
  {
   "cell_type": "code",
   "execution_count": 124,
   "id": "34ac76e3",
   "metadata": {},
   "outputs": [
    {
     "name": "stdout",
     "output_type": "stream",
     "text": [
      "The Linear Regression coefficients of the training data are:\n",
      "w1 = 1.0006563818563046 w0 = -0.10726546430100825 \n",
      "\n",
      "The predicted values using the model \n",
      "\n",
      "[76.94327594 20.90651855 21.90717494 19.90586217 35.91636428 14.90258026\n",
      " 61.93343021 94.95509081 19.90586217  4.89601644  3.89536006 18.90520579\n",
      " 95.95574719 61.93343021 35.91636428 14.90258026 64.93539936 13.90192388\n",
      " 86.94983976 68.93802488 88.95115252 50.92621001 88.95115252 26.91045685\n",
      " 96.95640358 57.93080468 78.9445887  20.90651855 92.95377805 26.91045685\n",
      " 98.95771634 30.91308237 32.91439514 79.94524508 27.91111323 46.92358448\n",
      " 52.92752277 68.93802488 27.91111323 32.91439514 90.95246528 70.93933765\n",
      " 49.92555363 75.94261956  3.89536006 36.91702066 69.93868127 67.9373685\n",
      " 39.91898981 34.9157079  93.95443443 87.95049614 51.92686639 30.91308237\n",
      " 58.93146107 -0.10726546 38.91833343 63.93474297 68.93802488 56.9301483\n",
      " 12.9012675  71.93999403 75.94261956 60.93277383 81.94655785 17.90454941\n",
      " 40.91964619 49.92555363 54.92883554 12.9012675  45.9229281  12.9012675\n",
      " 78.9445887  52.92752277 14.90258026 27.91111323 80.94590147 68.93802488\n",
      " 51.92686639 83.94787061 67.9373685  26.91045685 55.92949192 47.92424086\n",
      " 39.91898981 38.91833343 81.94655785 99.95837272 58.93146107 42.92095896\n",
      " 66.93671212 37.91767705 62.93408659 90.95246528 59.93211745 13.90192388\n",
      " 20.90651855 86.94983976 72.94065041 31.91373876  1.8940473  81.94655785\n",
      " 18.90520579 73.94130679 41.92030257 11.90061112  0.89339092 89.9518089\n",
      " 88.95115252 -0.10726546 40.91964619 15.90323665 93.95443443 96.95640358\n",
      " 65.93605574 23.9084877  16.90389303 89.9518089  12.9012675  -0.10726546\n",
      " 63.93474297 95.95574719 97.95705996 11.90061112 40.91964619 46.92358448\n",
      " 77.94393232 19.90586217 88.95115252 28.91176961 63.93474297 74.94196317\n",
      " 11.90061112 24.90914408 27.91111323 29.91242599 64.93539936 58.93146107\n",
      " 63.93474297 52.92752277 70.93933765 96.95640358 72.94065041  8.89864197\n",
      " 11.90061112 62.93408659 98.95771634 59.93211745 34.9157079   1.8940473\n",
      " 59.93211745 31.91373876 93.95443443 83.94787061 62.93408659 21.90717494\n",
      " 80.94590147 92.95377805 32.91439514  6.89732921 41.92030257 45.9229281\n",
      " 53.92817916 15.90323665 48.92489725 42.92095896 94.95509081 65.93605574\n",
      " 20.90651855 34.9157079  79.94524508 36.91702066 53.92817916 55.92949192\n",
      "  0.89339092 31.91373876 57.93080468 31.91373876 45.9229281  71.93999403\n",
      " 16.90389303 96.95640358 92.95377805 90.95246528 36.91702066  3.89536006\n",
      " 53.92817916 50.92621001 26.91045685 45.9229281  91.95312167 72.94065041\n",
      " 76.94327594 90.95246528 60.93277383 98.95771634  3.89536006 71.93999403\n",
      " 18.90520579 56.9301483  77.94393232 25.90980046 73.94130679 89.9518089\n",
      " 65.93605574 12.9012675  39.91898981 76.94327594 66.93671212 74.94196317\n",
      " 22.90783132 44.92227172 58.93146107 43.92161534 22.90783132 54.92883554\n",
      " 54.92883554 94.95509081 11.90061112  3.89536006  6.89732921 99.95837272\n",
      " 47.92424086 41.92030257 95.95574719 38.91833343 99.95837272 86.94983976\n",
      " 13.90192388 13.90192388 36.91702066  4.89601644 87.95049614 90.95246528\n",
      " 64.93539936 73.94130679 55.92949192 15.90323665  4.89601644 27.91111323\n",
      " 91.95312167 45.9229281  53.92817916 38.91833343 43.92161534 30.91308237\n",
      " 67.9373685  85.94918338 89.9518089  37.91767705 20.90651855 94.95509081\n",
      " 55.92949192 59.93211745 64.93539936 77.94393232 88.95115252  5.89667283\n",
      " 66.93671212 35.91636428 15.90323665 99.95837272 44.92227172 72.94065041\n",
      " 56.9301483  19.90586217 75.94261956 33.91505152 54.92883554 71.93999403\n",
      " 54.92883554  7.89798559 55.92949192 71.93999403 57.93080468  5.89667283\n",
      " 95.95574719 22.90783132 57.93080468 22.90783132 18.90520579 24.90914408\n",
      " 63.93474297 20.90651855 58.93146107 18.90520579 15.90323665 41.92030257\n",
      " 42.92095896 60.93277383 91.95312167 10.89995474 40.91964619  0.89339092\n",
      "  7.89798559 70.93933765 45.9229281  54.92883554 61.93343021 46.92358448]\n",
      "\n",
      " The performace of the model mesured by using the Root Mean Square as the metric is: 3.0713062680298253\n"
     ]
    }
   ],
   "source": [
    "coefficient_values = coefficients(X,Y)\n",
    "print(\"The Linear Regression coefficients of the training data are:\")\n",
    "print(\"w1 = {} w0 = {} \\n\".format(coefficient_values[0],coefficient_values[1]))\n",
    "\n",
    "X_test = test_data['x'].values\n",
    "Y_predict = predict_values(coefficient_values[0],coefficient_values[1],X_test)\n",
    "print(\"The predicted values using the model \\n\")\n",
    "print(y_test)\n",
    "\n",
    "Y_test = test_data['y'].values\n",
    "rmse = root_mean_square_error(coefficient_values[0],coefficient_values[1],Y_test,Y_predict)\n",
    "print(\"\\n The performace of the model mesured by using the Root Mean Square as the metric is:\",rmse)"
   ]
  }
 ],
 "metadata": {
  "kernelspec": {
   "display_name": "Python 3 (ipykernel)",
   "language": "python",
   "name": "python3"
  },
  "language_info": {
   "codemirror_mode": {
    "name": "ipython",
    "version": 3
   },
   "file_extension": ".py",
   "mimetype": "text/x-python",
   "name": "python",
   "nbconvert_exporter": "python",
   "pygments_lexer": "ipython3",
   "version": "3.9.7"
  }
 },
 "nbformat": 4,
 "nbformat_minor": 5
}
