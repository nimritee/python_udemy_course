{
 "cells": [
  {
   "cell_type": "code",
   "execution_count": 125,
   "id": "7ec40feb",
   "metadata": {},
   "outputs": [],
   "source": [
    "import numpy as np"
   ]
  },
  {
   "cell_type": "code",
   "execution_count": 126,
   "id": "c9ede59c",
   "metadata": {},
   "outputs": [],
   "source": [
    "# x1 atmospheric pressure\n",
    "x1 = ['high', 'high', 'low', 'low', 'low', 'high']  \n",
    "# x2 is weather type\n",
    "x2 = ['partly cloudy', 'sunny', 'sunny', 'cloudy', 'cloudy', 'cloudy']  "
   ]
  },
  {
   "cell_type": "code",
   "execution_count": 127,
   "id": "419e1f78",
   "metadata": {},
   "outputs": [
    {
     "data": {
      "text/plain": [
       "array([['high', 'partly cloudy'],\n",
       "       ['high', 'sunny'],\n",
       "       ['low', 'sunny'],\n",
       "       ['low', 'cloudy'],\n",
       "       ['low', 'cloudy'],\n",
       "       ['high', 'cloudy']], dtype='<U13')"
      ]
     },
     "execution_count": 127,
     "metadata": {},
     "output_type": "execute_result"
    }
   ],
   "source": [
    "X = np.array([x1, x2]).T # Transpose the data\n",
    "X"
   ]
  },
  {
   "cell_type": "code",
   "execution_count": 128,
   "id": "5b36a0c0",
   "metadata": {},
   "outputs": [
    {
     "data": {
      "text/plain": [
       "array([False, False,  True, False, False,  True])"
      ]
     },
     "execution_count": 128,
     "metadata": {},
     "output_type": "execute_result"
    }
   ],
   "source": [
    "y = np.array([False, False, True, False, False, True]) # rain (True) and no-rain (False)\n",
    "y #labels "
   ]
  },
  {
   "cell_type": "code",
   "execution_count": 129,
   "id": "08a67f34",
   "metadata": {},
   "outputs": [],
   "source": [
    "# Checks for pureness of elements in a list\n",
    "def is_pure(s):\n",
    "    return len(set(s)) == 1"
   ]
  },
  {
   "cell_type": "code",
   "execution_count": 130,
   "id": "04be07f6",
   "metadata": {},
   "outputs": [],
   "source": [
    "# Picking which attribute to split\n",
    "# Calculate entropy of a list\n",
    "def entropy(s):\n",
    "    res = 0\n",
    "    val, counts = np.unique(s, return_counts=True)\n",
    "    freqs = counts.astype('float')/len(s)\n",
    "    for p in freqs:\n",
    "        if p != 0.0:\n",
    "            res -= p * np.log2(p)\n",
    "    return res"
   ]
  },
  {
   "cell_type": "code",
   "execution_count": 131,
   "id": "89c870bf",
   "metadata": {},
   "outputs": [],
   "source": [
    "def partition(a):\n",
    "    return {c: (a==c).nonzero()[0] for c in np.unique(a)}"
   ]
  },
  {
   "cell_type": "code",
   "execution_count": 132,
   "id": "2b69b341",
   "metadata": {},
   "outputs": [],
   "source": [
    "# Calculate decrease in impurity (information gains)\n",
    "# \n",
    "def mutual_information(y, x):\n",
    "\n",
    "    # Calculate entropy of observation classes\n",
    "    res = entropy(y)\n",
    "\n",
    "    # We partition x, according to attribute values x_i\n",
    "    val, counts = np.unique(x, return_counts=True)\n",
    "    freqs = counts.astype('float')/len(x)\n",
    "\n",
    "    # We calculate a weighted average of the entropy and subtract it from parent entropy\n",
    "    for p, v in zip(freqs, val):\n",
    "        res -= p * entropy(y[x == v])\n",
    "\n",
    "    return res"
   ]
  },
  {
   "cell_type": "code",
   "execution_count": 133,
   "id": "f5b34569",
   "metadata": {},
   "outputs": [],
   "source": [
    "# Get the most common element of an array\n",
    "def most_common(a):\n",
    "    (values,counts) = np.unique(a,return_counts=True)\n",
    "    ind=np.argmax(counts)\n",
    "    return values[ind]"
   ]
  },
  {
   "cell_type": "code",
   "execution_count": 137,
   "id": "5d330a70",
   "metadata": {},
   "outputs": [],
   "source": [
    "def recursive_split(x, y):\n",
    "    \n",
    "    # If set to be split is pure or empty, return it as leaf\n",
    "    if is_pure(y) or len(y) == 0:\n",
    "        return most_common(y)\n",
    "\n",
    "    # Calculate decrease in impurity (information gain) and split attribute with maximum gain\n",
    "    gain = np.array([mutual_information(y, x_attr) for x_attr in x.T])\n",
    "    selected_attr = np.argmax(gain)\n",
    "\n",
    "    # Sufficiently pure, return it as leaf\n",
    "    if np.all(gain < 1e-6):\n",
    "        return \n",
    "    (y)\n",
    "\n",
    "    # Split using the selected attribute\n",
    "    sets = partition(x[:, selected_attr])\n",
    "\n",
    "    # Perform recursive splits and collect results\n",
    "    res = {}\n",
    "    for key, value in sets.items():\n",
    "        y_subset = y.take(value, axis=0)\n",
    "        x_subset = x.take(value, axis=0)\n",
    "        res[\"x_%d = %s\" % (selected_attr, key)] = recursive_split(x_subset, y_subset)\n",
    "\n",
    "    return res"
   ]
  },
  {
   "cell_type": "code",
   "execution_count": 138,
   "id": "77f7f1ea",
   "metadata": {},
   "outputs": [],
   "source": [
    "# Helper function to print decision tree\n",
    "def print_tree(d, depth = 0):\n",
    "    for key, value in d.items():\n",
    "        for i in range(depth):\n",
    "                print(' ', end='')\n",
    "        if type(value) is dict:\n",
    "            print(key, end=':\\n')\n",
    "            print_tree(value, depth + 1)\n",
    "        else:\n",
    "            print(key, end=': ')\n",
    "            print(value)"
   ]
  },
  {
   "cell_type": "code",
   "execution_count": 139,
   "id": "b3bf12b0",
   "metadata": {},
   "outputs": [
    {
     "name": "stdout",
     "output_type": "stream",
     "text": [
      "x_1 = cloudy:\n",
      " x_0 = high: True\n",
      " x_0 = low: False\n",
      "x_1 = partly cloudy: False\n",
      "x_1 = sunny:\n",
      " x_0 = high: False\n",
      " x_0 = low: True\n"
     ]
    }
   ],
   "source": [
    "# Perform algorithm on the example dataset to create a decision tree\n",
    "d = recursive_split(X, y)\n",
    "print_tree(d)"
   ]
  },
  {
   "cell_type": "code",
   "execution_count": 140,
   "id": "cc04e1e2",
   "metadata": {},
   "outputs": [],
   "source": [
    "# New dataset (which shall be classified by the above generated decision tree)\n",
    "x1 = ['high', 'low', 'low', 'high', 'low', 'high', 'high', 'low', 'low', 'high', 'low', 'low']\n",
    "x2 = ['sunny', 'sunny', 'cloudy', 'cloudy', 'partly cloudy', 'cloudy', 'partly cloudy', 'cloudy', 'sunny', 'cloudy', 'cloudy', 'partly cloudy']\n",
    "X = np.array([x1, x2]).T\n",
    "y = np.array([False, True, True, False, False, True, False, True, True, False, True, True]) # ground-truth of classification"
   ]
  },
  {
   "cell_type": "code",
   "execution_count": 141,
   "id": "fdea4134",
   "metadata": {},
   "outputs": [
    {
     "data": {
      "text/plain": [
       "array([['high', 'sunny'],\n",
       "       ['low', 'sunny'],\n",
       "       ['low', 'cloudy'],\n",
       "       ['high', 'cloudy'],\n",
       "       ['low', 'partly cloudy'],\n",
       "       ['high', 'cloudy'],\n",
       "       ['high', 'partly cloudy'],\n",
       "       ['low', 'cloudy'],\n",
       "       ['low', 'sunny'],\n",
       "       ['high', 'cloudy'],\n",
       "       ['low', 'cloudy'],\n",
       "       ['low', 'partly cloudy']], dtype='<U13')"
      ]
     },
     "execution_count": 141,
     "metadata": {},
     "output_type": "execute_result"
    }
   ],
   "source": [
    "X"
   ]
  },
  {
   "cell_type": "code",
   "execution_count": 150,
   "id": "241f0d9f",
   "metadata": {},
   "outputs": [],
   "source": [
    "def predict_rains(x,y):\n",
    "    tree = recursive_split(x,y)\n",
    "    print(tree)\n",
    "    return tree"
   ]
  },
  {
   "cell_type": "code",
   "execution_count": 151,
   "id": "b1cffe70",
   "metadata": {},
   "outputs": [
    {
     "name": "stdout",
     "output_type": "stream",
     "text": [
      "{'x_0 = high': {'x_1 = cloudy': None, 'x_1 = partly cloudy': False, 'x_1 = sunny': False}, 'x_0 = low': {'x_1 = cloudy': True, 'x_1 = partly cloudy': None, 'x_1 = sunny': True}}\n"
     ]
    }
   ],
   "source": [
    "data = predict_rains(X,y)"
   ]
  },
  {
   "cell_type": "code",
   "execution_count": 152,
   "id": "165a6bfb",
   "metadata": {},
   "outputs": [
    {
     "name": "stdout",
     "output_type": "stream",
     "text": [
      "x_0 = high:\n",
      " x_1 = cloudy: None\n",
      " x_1 = partly cloudy: False\n",
      " x_1 = sunny: False\n",
      "x_0 = low:\n",
      " x_1 = cloudy: True\n",
      " x_1 = partly cloudy: None\n",
      " x_1 = sunny: True\n"
     ]
    }
   ],
   "source": [
    "print_tree(data)"
   ]
  },
  {
   "cell_type": "code",
   "execution_count": null,
   "id": "2fe4c0c4",
   "metadata": {},
   "outputs": [],
   "source": []
  },
  {
   "cell_type": "code",
   "execution_count": null,
   "id": "459d0466",
   "metadata": {},
   "outputs": [],
   "source": []
  }
 ],
 "metadata": {
  "kernelspec": {
   "display_name": "Python 3 (ipykernel)",
   "language": "python",
   "name": "python3"
  },
  "language_info": {
   "codemirror_mode": {
    "name": "ipython",
    "version": 3
   },
   "file_extension": ".py",
   "mimetype": "text/x-python",
   "name": "python",
   "nbconvert_exporter": "python",
   "pygments_lexer": "ipython3",
   "version": "3.9.7"
  }
 },
 "nbformat": 4,
 "nbformat_minor": 5
}
