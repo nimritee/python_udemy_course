{
 "cells": [
  {
   "cell_type": "code",
   "execution_count": 1,
   "id": "4e958898",
   "metadata": {},
   "outputs": [],
   "source": [
    "import pandas as pd\n",
    "import numpy as np\n",
    "from matplotlib import pyplot as plt"
   ]
  },
  {
   "cell_type": "code",
   "execution_count": 2,
   "id": "ee052b97",
   "metadata": {},
   "outputs": [
    {
     "data": {
      "text/html": [
       "<div>\n",
       "<style scoped>\n",
       "    .dataframe tbody tr th:only-of-type {\n",
       "        vertical-align: middle;\n",
       "    }\n",
       "\n",
       "    .dataframe tbody tr th {\n",
       "        vertical-align: top;\n",
       "    }\n",
       "\n",
       "    .dataframe thead th {\n",
       "        text-align: right;\n",
       "    }\n",
       "</style>\n",
       "<table border=\"1\" class=\"dataframe\">\n",
       "  <thead>\n",
       "    <tr style=\"text-align: right;\">\n",
       "      <th></th>\n",
       "      <th>name</th>\n",
       "      <th>Longitude</th>\n",
       "      <th>Latitude</th>\n",
       "      <th>continent</th>\n",
       "    </tr>\n",
       "  </thead>\n",
       "  <tbody>\n",
       "    <tr>\n",
       "      <th>0</th>\n",
       "      <td>Aruba</td>\n",
       "      <td>-69.982677</td>\n",
       "      <td>12.520880</td>\n",
       "      <td>North America</td>\n",
       "    </tr>\n",
       "    <tr>\n",
       "      <th>1</th>\n",
       "      <td>Afghanistan</td>\n",
       "      <td>66.004734</td>\n",
       "      <td>33.835231</td>\n",
       "      <td>Asia</td>\n",
       "    </tr>\n",
       "    <tr>\n",
       "      <th>2</th>\n",
       "      <td>Angola</td>\n",
       "      <td>17.537368</td>\n",
       "      <td>-12.293361</td>\n",
       "      <td>Africa</td>\n",
       "    </tr>\n",
       "    <tr>\n",
       "      <th>3</th>\n",
       "      <td>Anguilla</td>\n",
       "      <td>-63.064989</td>\n",
       "      <td>18.223959</td>\n",
       "      <td>North America</td>\n",
       "    </tr>\n",
       "    <tr>\n",
       "      <th>4</th>\n",
       "      <td>Albania</td>\n",
       "      <td>20.049834</td>\n",
       "      <td>41.142450</td>\n",
       "      <td>Europe</td>\n",
       "    </tr>\n",
       "    <tr>\n",
       "      <th>...</th>\n",
       "      <td>...</td>\n",
       "      <td>...</td>\n",
       "      <td>...</td>\n",
       "      <td>...</td>\n",
       "    </tr>\n",
       "    <tr>\n",
       "      <th>236</th>\n",
       "      <td>Samoa</td>\n",
       "      <td>-172.164851</td>\n",
       "      <td>-13.753243</td>\n",
       "      <td>Oceania</td>\n",
       "    </tr>\n",
       "    <tr>\n",
       "      <th>237</th>\n",
       "      <td>Yemen</td>\n",
       "      <td>47.586762</td>\n",
       "      <td>15.909280</td>\n",
       "      <td>Asia</td>\n",
       "    </tr>\n",
       "    <tr>\n",
       "      <th>238</th>\n",
       "      <td>South Africa</td>\n",
       "      <td>25.083901</td>\n",
       "      <td>-29.000341</td>\n",
       "      <td>Africa</td>\n",
       "    </tr>\n",
       "    <tr>\n",
       "      <th>239</th>\n",
       "      <td>Zambia</td>\n",
       "      <td>27.774759</td>\n",
       "      <td>-13.458242</td>\n",
       "      <td>Africa</td>\n",
       "    </tr>\n",
       "    <tr>\n",
       "      <th>240</th>\n",
       "      <td>Zimbabwe</td>\n",
       "      <td>29.851441</td>\n",
       "      <td>-19.004204</td>\n",
       "      <td>Africa</td>\n",
       "    </tr>\n",
       "  </tbody>\n",
       "</table>\n",
       "<p>241 rows × 4 columns</p>\n",
       "</div>"
      ],
      "text/plain": [
       "             name   Longitude   Latitude      continent\n",
       "0           Aruba  -69.982677  12.520880  North America\n",
       "1     Afghanistan   66.004734  33.835231           Asia\n",
       "2          Angola   17.537368 -12.293361         Africa\n",
       "3        Anguilla  -63.064989  18.223959  North America\n",
       "4         Albania   20.049834  41.142450         Europe\n",
       "..            ...         ...        ...            ...\n",
       "236         Samoa -172.164851 -13.753243        Oceania\n",
       "237         Yemen   47.586762  15.909280           Asia\n",
       "238  South Africa   25.083901 -29.000341         Africa\n",
       "239        Zambia   27.774759 -13.458242         Africa\n",
       "240      Zimbabwe   29.851441 -19.004204         Africa\n",
       "\n",
       "[241 rows x 4 columns]"
      ]
     },
     "execution_count": 2,
     "metadata": {},
     "output_type": "execute_result"
    }
   ],
   "source": [
    "df = pd.read_csv(\"Categorical.csv\")\n",
    "df"
   ]
  },
  {
   "cell_type": "code",
   "execution_count": 3,
   "id": "79fa3b20",
   "metadata": {},
   "outputs": [],
   "source": [
    "# We have calculated the Euclidean distance using continent as a feature and have taken initial centroids from them.\n",
    "# I have taken Asia as a reference for calculation of distance from them\n",
    "def find_continent_distance(dataframe):\n",
    "    continents = dataframe['continent'].unique()\n",
    "    continent_distances = {}\n",
    "    for continent in continents:\n",
    "        if continent == 'Asia':\n",
    "            continent_distances['Asia'] = 0\n",
    "        else:\n",
    "            distance = np.linalg.norm(np.array(dataframe[dataframe['continent'] == 'Asia'].loc[:,[\"Longitude\",\"Latitude\"]]) - np.array(dataframe[dataframe['continent'] == continent].loc[:,[\"Longitude\",\"Latitude\"]])[:, np.newaxis])\n",
    "            continent_distances[continent] = distance\n",
    "    return continent_distances"
   ]
  },
  {
   "cell_type": "code",
   "execution_count": 4,
   "id": "a1866c42",
   "metadata": {},
   "outputs": [],
   "source": [
    "def find_first_k_centroids(data, k):\n",
    "    centroids = list(set(data))\n",
    "    np.random.shuffle(centroids)\n",
    "    return np.array(centroids[:k])"
   ]
  },
  {
   "cell_type": "code",
   "execution_count": 5,
   "id": "48a16994",
   "metadata": {},
   "outputs": [],
   "source": [
    "def find_nearest_centroid(data, centroids):\n",
    "    return np.argmin(np.sqrt(((data - centroids[:,np.newaxis])**2)), axis=0)"
   ]
  },
  {
   "cell_type": "code",
   "execution_count": 6,
   "id": "48202e74",
   "metadata": {},
   "outputs": [],
   "source": [
    "def find_new_centroids(data, nearest_centroids, centroids):\n",
    "    return np.array([data[nearest_centroids==i].mean(axis=0) for i in range(centroids.shape[0])])"
   ]
  },
  {
   "cell_type": "code",
   "execution_count": 7,
   "id": "1d71f242",
   "metadata": {},
   "outputs": [],
   "source": [
    "def find_k_means(data, centroids):\n",
    "    nearest_centroids = None\n",
    "    while True:\n",
    "        nearest_centroids = find_nearest_centroid(data, centroids)\n",
    "        new_centroids = find_new_centroids(data, nearest_centroids, centroids)\n",
    "        if((centroids == new_centroids).all()):\n",
    "            break\n",
    "        centroids = new_centroids\n",
    "    print (\"New centroids\\n{}\".format(centroids))\n",
    "    return nearest_centroids"
   ]
  },
  {
   "cell_type": "code",
   "execution_count": 8,
   "id": "40bd1f40",
   "metadata": {},
   "outputs": [
    {
     "name": "stdout",
     "output_type": "stream",
     "text": [
      "First Centroids\n",
      "[1720.19027584 4173.76480353 5806.20633512 6954.87516908]\n",
      "New centroids\n",
      "[ 236.76735725 4085.3785108  5806.20633512 6954.87516908]\n",
      "Clusters\n",
      "[3 0 1 3 1 1 1 0 1 0 2 0 2 0 3 2 1 0 1 1 1 1 0 1 0 3 3 1 3 1 3 3 1 1 3 0 0\n",
      " 1 1 1 1 0 1 1 1 1 2 1 1 1 3 3 3 3 0 0 1 1 1 3 1 3 1 1 1 1 1 1 1 1 2 1 1 1\n",
      " 2 1 1 0 1 1 1 1 1 1 1 3 3 3 2 1 0 0 3 1 3 1 0 1 0 0 0 1 0 0 1 0 1 3 1 0 0\n",
      " 0 0 1 0 0 2 3 0 1 0 0 0 1 1 3 1 0 1 1 1 1 0 3 1 1 1 1 0 3 2 1 1 1 0 1 0 2\n",
      " 1 1 3 0 1 0 1 2 1 2 1 3 2 1 1 0 2 2 0 0 3 2 1 0 2 2 1 3 0 1 1 0 2 0 1 1 1\n",
      " 1 0 1 1 1 0 0 0 2 1 3 1 1 1 3 1 1 1 1 1 1 1 3 0 0 3 1 1 0 0 0 0 2 3 1 0 0\n",
      " 1 1 1 1 3 0 1 3 1 3 3 0 2 2 2 0 1 1 1]\n"
     ]
    }
   ],
   "source": [
    "k = 4\n",
    "continent_distances = find_continent_distance(df)\n",
    "data = df.loc[:,'continent'].map(continent_distances)\n",
    "centroids = find_first_k_centroids(data, k)\n",
    "print (\"First Centroids\\n{}\".format(centroids))\n",
    "cluster_matrix = find_k_means(np.array(data), centroids)\n",
    "print (\"Clusters\\n{}\".format(cluster_matrix))\n"
   ]
  },
  {
   "cell_type": "code",
   "execution_count": 9,
   "id": "f03cc155",
   "metadata": {},
   "outputs": [],
   "source": [
    "df['new_cluster'] = cluster_matrix"
   ]
  },
  {
   "cell_type": "code",
   "execution_count": 10,
   "id": "bf201aa8",
   "metadata": {},
   "outputs": [
    {
     "data": {
      "text/plain": [
       "Text(0.5, 1.0, \"Clustering of Countries' data using continent as a feature\")"
      ]
     },
     "execution_count": 10,
     "metadata": {},
     "output_type": "execute_result"
    },
    {
     "data": {
      "image/png": "[encoded data removed]",
      "text/plain": [
       "<Figure size 432x288 with 1 Axes>"
      ]
     },
     "metadata": {
      "needs_background": "light"
     },
     "output_type": "display_data"
    }
   ],
   "source": [
    "plt.scatter(df[df['new_cluster']==0]['Longitude'],df[df['new_cluster']==0]['Latitude'], c='r')\n",
    "plt.scatter(df[df['new_cluster']==1]['Longitude'],df[df['new_cluster']==1]['Latitude'], c='g')\n",
    "plt.scatter(df[df['new_cluster']==2]['Longitude'],df[df['new_cluster']==2]['Latitude'], c='b')\n",
    "plt.scatter(df[df['new_cluster']==3]['Longitude'],df[df['new_cluster']==3]['Latitude'], c='black')\n",
    "plt.xlabel('Longitude')\n",
    "plt.ylabel('Latitude')\n",
    "plt.title(\"Clustering of Countries' data using continent as a feature\")"
   ]
  },
  {
   "cell_type": "code",
   "execution_count": null,
   "id": "2b89dea5",
   "metadata": {},
   "outputs": [],
   "source": []
  }
 ],
 "metadata": {
  "kernelspec": {
   "display_name": "Python 3 (ipykernel)",
   "language": "python",
   "name": "python3"
  },
  "language_info": {
   "codemirror_mode": {
    "name": "ipython",
    "version": 3
   },
   "file_extension": ".py",
   "mimetype": "text/x-python",
   "name": "python",
   "nbconvert_exporter": "python",
   "pygments_lexer": "ipython3",
   "version": "3.9.7"
  }
 },
 "nbformat": 4,
 "nbformat_minor": 5
}
