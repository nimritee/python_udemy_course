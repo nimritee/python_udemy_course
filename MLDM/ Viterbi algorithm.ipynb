{
 "cells": [
  {
   "cell_type": "code",
   "execution_count": 40,
   "id": "b8410870",
   "metadata": {},
   "outputs": [],
   "source": [
    "states = ('happy', 'sad')\n",
    "observations = ('sunny', 'rainy')\n",
    "initial_probability = {\"happy\":0.1,\"sad\":0.9}\n",
    "transition_probability= {\"happy\":{\"happy\":0.7,\"sad\":0.3},\"sad\":{\"happy\":0.4,\"sad\":0.6}}\n",
    "emission_probability = {\"happy\": {\"sunny\": 0.8, \"rainy\": 0.2},\"sad\": {\"sunny\": 0.4, \"rainy\": 0.6}}"
   ]
  },
  {
   "cell_type": "code",
   "execution_count": 46,
   "id": "4174c102",
   "metadata": {},
   "outputs": [],
   "source": [
    "def viterbi_algorithm(observations, states, initial_probability, transition_probability, emission_probability):\n",
    "    V = [{}]\n",
    "    for st in states:\n",
    "        V[0][st] = {\"prob\": initial_probability[st] * emission_probability[st][observations[0]], \"prev\": None}\n",
    "        \n",
    "    for t in range(1, len(observations)):\n",
    "        V.append({})\n",
    "        for st in states:\n",
    "            max_tr_prob = V[t - 1][states[0]][\"prob\"] * transition_probability[states[0]][st]\n",
    "            prev_st_selected = states[0]\n",
    "            for prev_st in states[1:]:\n",
    "                tr_prob = V[t - 1][prev_st][\"prob\"] * transition_probability[prev_st][st]\n",
    "                if tr_prob > max_tr_prob:\n",
    "                    max_tr_prob = tr_prob\n",
    "                    prev_st_selected = prev_st\n",
    " \n",
    "            max_prob = max_tr_prob * emission_probability[st][observations[t]]\n",
    "            V[t][st] = {\"prob\": max_prob, \"prev\": prev_st_selected}\n",
    "    \n",
    "    for line in dptable(V):\n",
    "        print(line)\n",
    "        \n",
    "    opt = []\n",
    "    max_prob = 0.0\n",
    "    best_st = None\n",
    "\n",
    "    for st, data in V[-1].items():\n",
    "        if data[\"prob\"] > max_prob:\n",
    "            max_prob = data[\"prob\"]\n",
    "            best_st = st\n",
    "    opt.append(best_st)\n",
    "    previous = best_st\n",
    "\n",
    "    for t in range(len(V) - 2, -1, -1):\n",
    "        opt.insert(0, V[t + 1][previous][\"prev\"])\n",
    "        previous = V[t + 1][previous][\"prev\"]\n",
    "\n",
    "    print (\"The steps of states are \" + \" \".join(opt) + \" with highest probability of %s\" % max_prob)"
   ]
  },
  {
   "cell_type": "code",
   "execution_count": 47,
   "id": "91450a4e",
   "metadata": {},
   "outputs": [],
   "source": [
    "def dptable(V):\n",
    "    yield \" \".join((\"%12d\" % i) for i in range(len(V)))\n",
    "    for state in V[0]:\n",
    "        yield \"%.7s: \" % state + \" \".join(\"%.7s\" % (\"%f\" % v[state][\"prob\"]) for v in V)"
   ]
  },
  {
   "cell_type": "code",
   "execution_count": 48,
   "id": "ce6d86ce",
   "metadata": {},
   "outputs": [
    {
     "name": "stdout",
     "output_type": "stream",
     "text": [
      "           0            1\n",
      "happy: 0.08000 0.02880\n",
      "sad: 0.36000 0.12960\n",
      "The steps of states are sad sad with highest probability of 0.12960000000000002\n",
      "None\n"
     ]
    }
   ],
   "source": [
    "output_viterbi_algorithm = viterbi_algorithm(observations, states, initial_probability, transition_probability, emission_probability)\n",
    "print(output_viterbi_algorithm)"
   ]
  },
  {
   "cell_type": "code",
   "execution_count": null,
   "id": "0e27ea3f",
   "metadata": {},
   "outputs": [],
   "source": []
  }
 ],
 "metadata": {
  "kernelspec": {
   "display_name": "Python 3 (ipykernel)",
   "language": "python",
   "name": "python3"
  },
  "language_info": {
   "codemirror_mode": {
    "name": "ipython",
    "version": 3
   },
   "file_extension": ".py",
   "mimetype": "text/x-python",
   "name": "python",
   "nbconvert_exporter": "python",
   "pygments_lexer": "ipython3",
   "version": "3.9.7"
  }
 },
 "nbformat": 4,
 "nbformat_minor": 5
}
