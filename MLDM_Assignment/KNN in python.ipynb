{
 "cells": [
  {
   "cell_type": "code",
   "execution_count": 101,
   "id": "d9d76b4f",
   "metadata": {},
   "outputs": [],
   "source": [
    "# Example of getting neighbors for an instance\n",
    "from math import sqrt\n",
    "import pandas as pd\n",
    "import numpy as np\n",
    "from scipy import stats"
   ]
  },
  {
   "cell_type": "code",
   "execution_count": 102,
   "id": "9dbbc243",
   "metadata": {},
   "outputs": [],
   "source": [
    "df = pd.read_excel(\"assignment6.xlsx\")"
   ]
  },
  {
   "cell_type": "code",
   "execution_count": 103,
   "id": "e3f316eb",
   "metadata": {},
   "outputs": [
    {
     "data": {
      "text/html": [
       "<div>\n",
       "<style scoped>\n",
       "    .dataframe tbody tr th:only-of-type {\n",
       "        vertical-align: middle;\n",
       "    }\n",
       "\n",
       "    .dataframe tbody tr th {\n",
       "        vertical-align: top;\n",
       "    }\n",
       "\n",
       "    .dataframe thead th {\n",
       "        text-align: right;\n",
       "    }\n",
       "</style>\n",
       "<table border=\"1\" class=\"dataframe\">\n",
       "  <thead>\n",
       "    <tr style=\"text-align: right;\">\n",
       "      <th></th>\n",
       "      <th>sepal_length</th>\n",
       "      <th>sepal_width</th>\n",
       "      <th>petal_length</th>\n",
       "      <th>petal_width</th>\n",
       "      <th>species</th>\n",
       "    </tr>\n",
       "  </thead>\n",
       "  <tbody>\n",
       "    <tr>\n",
       "      <th>0</th>\n",
       "      <td>5.1</td>\n",
       "      <td>3.5</td>\n",
       "      <td>1.4</td>\n",
       "      <td>0.2</td>\n",
       "      <td>setosa</td>\n",
       "    </tr>\n",
       "    <tr>\n",
       "      <th>1</th>\n",
       "      <td>4.9</td>\n",
       "      <td>3.0</td>\n",
       "      <td>1.4</td>\n",
       "      <td>0.2</td>\n",
       "      <td>setosa</td>\n",
       "    </tr>\n",
       "    <tr>\n",
       "      <th>2</th>\n",
       "      <td>4.7</td>\n",
       "      <td>3.2</td>\n",
       "      <td>1.3</td>\n",
       "      <td>0.2</td>\n",
       "      <td>setosa</td>\n",
       "    </tr>\n",
       "    <tr>\n",
       "      <th>3</th>\n",
       "      <td>4.6</td>\n",
       "      <td>3.1</td>\n",
       "      <td>1.5</td>\n",
       "      <td>0.2</td>\n",
       "      <td>setosa</td>\n",
       "    </tr>\n",
       "    <tr>\n",
       "      <th>4</th>\n",
       "      <td>5.0</td>\n",
       "      <td>3.6</td>\n",
       "      <td>1.4</td>\n",
       "      <td>0.2</td>\n",
       "      <td>setosa</td>\n",
       "    </tr>\n",
       "  </tbody>\n",
       "</table>\n",
       "</div>"
      ],
      "text/plain": [
       "   sepal_length  sepal_width  petal_length  petal_width species\n",
       "0           5.1          3.5           1.4          0.2  setosa\n",
       "1           4.9          3.0           1.4          0.2  setosa\n",
       "2           4.7          3.2           1.3          0.2  setosa\n",
       "3           4.6          3.1           1.5          0.2  setosa\n",
       "4           5.0          3.6           1.4          0.2  setosa"
      ]
     },
     "execution_count": 103,
     "metadata": {},
     "output_type": "execute_result"
    }
   ],
   "source": [
    "df.head()"
   ]
  },
  {
   "cell_type": "code",
   "execution_count": 104,
   "id": "e54cb02a",
   "metadata": {},
   "outputs": [],
   "source": [
    "# Calculate the Euclidean distance between two vectors\n",
    "def euclidean_distance(row1, row2):\n",
    "    new_data = row1.values\n",
    "    return np.linalg.norm(new_data - predict_data, axis=1)\n",
    "\n",
    "# Locate the most similar neighbors\n",
    "def get_neighbors(num_neighbors,distances,labels):\n",
    "    n_id = distances.argsort()[:num_neighbors]\n",
    "    labels = labels.values\n",
    "    n= labels[n_id]\n",
    "    neighbours = stats.mode(n)\n",
    "    return neighbours[0][0]\n",
    "\n",
    "# Make a prediction with neighbors\n",
    "def predict_label_species(num_neighbors,train, test_row):\n",
    "    distance_data = train.drop(\"species\", axis=1)\n",
    "    labels= train[\"species\"]\n",
    "    distances = euclidean_distance(distance_data, test_row)\n",
    "    neighbors = get_neighbors(num_neighbors,distances,labels)\n",
    "#     output_values = [row[-1] for row in neighbors]\n",
    "#     prediction = max(set(output_values), key=output_values.count)\n",
    "    return neighbors"
   ]
  },
  {
   "cell_type": "code",
   "execution_count": 109,
   "id": "b64068ff",
   "metadata": {},
   "outputs": [
    {
     "name": "stdout",
     "output_type": "stream",
     "text": [
      "The predicted label, when k=7:  versicolor\n"
     ]
    }
   ],
   "source": [
    "predict_data = np.array([\n",
    "    8.2, 2.6, 3.2, 1.8\n",
    "])\n",
    "k = 7\n",
    "predicted_label = predict_label_species(k, df, predict_data)\n",
    "print(\"The predicted label, when k=7: \",predicted_label)"
   ]
  },
  {
   "cell_type": "code",
   "execution_count": 110,
   "id": "2714ab54",
   "metadata": {},
   "outputs": [
    {
     "name": "stdout",
     "output_type": "stream",
     "text": [
      "The predicted label, when k=5:  versicolor\n"
     ]
    }
   ],
   "source": [
    "k = 5\n",
    "predicted_label = predict_label_species(k, df, predict_data)\n",
    "print(\"The predicted label, when k=5: \",predicted_label)"
   ]
  },
  {
   "cell_type": "code",
   "execution_count": 111,
   "id": "399fa086",
   "metadata": {},
   "outputs": [
    {
     "name": "stdout",
     "output_type": "stream",
     "text": [
      "The predicted label, when k=7:  versicolor\n"
     ]
    }
   ],
   "source": [
    "k = 3\n",
    "predicted_label = predict_label_species(k, df, predict_data)\n",
    "print(\"The predicted label, when k=7: \",predicted_label)"
   ]
  }
 ],
 "metadata": {
  "kernelspec": {
   "display_name": "Python 3 (ipykernel)",
   "language": "python",
   "name": "python3"
  },
  "language_info": {
   "codemirror_mode": {
    "name": "ipython",
    "version": 3
   },
   "file_extension": ".py",
   "mimetype": "text/x-python",
   "name": "python",
   "nbconvert_exporter": "python",
   "pygments_lexer": "ipython3",
   "version": "3.9.7"
  }
 },
 "nbformat": 4,
 "nbformat_minor": 5
}
