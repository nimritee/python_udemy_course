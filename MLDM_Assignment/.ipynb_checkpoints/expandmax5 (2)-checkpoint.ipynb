{
 "cells": [
  {
   "cell_type": "code",
   "execution_count": 1,
   "metadata": {},
   "outputs": [],
   "source": [
    "import pandas as pd\n",
    "import numpy as np\n",
    "import math"
   ]
  },
  {
   "cell_type": "code",
   "execution_count": 4,
   "metadata": {},
   "outputs": [],
   "source": [
    "def cal(x,M,std):\n",
    "    a=math.exp(-(((x-M)**2)/(2*(std**2))))\n",
    "    return((1/(std*math.sqrt(2*math.pi)))*a)"
   ]
  },
  {
   "cell_type": "code",
   "execution_count": 5,
   "metadata": {},
   "outputs": [
    {
     "name": "stdout",
     "output_type": "stream",
     "text": [
      "Expectations 1: 6.7636527794923e-06 1.2258571819924825e-05 1.4400223172210647e-05\n",
      "Expectations 2: 5.4018153916559255e-06 2.168538824144659e-05 2.1346801692390267e-05\n"
     ]
    }
   ],
   "source": [
    "f11=cal(162745,188014.34,52541.39)\n",
    "f12=cal(162745,143104.34,18330.95)\n",
    "f13=cal(162745,146148.34,18628.83)\n",
    "print(\"Expectations 1:\", f11,f12,f13)\n",
    "f21=cal(144657,188014.34,52541.39)\n",
    "f22=cal(144657,143104.34,18330.95)\n",
    "f23=cal(144657,146148.34,18628.83)\n",
    "print(\"Expectations 2:\", f21,f22,f23)"
   ]
  },
  {
   "cell_type": "code",
   "execution_count": 6,
   "metadata": {},
   "outputs": [
    {
     "name": "stdout",
     "output_type": "stream",
     "text": [
      "Expectations 1: 0.20519521745002928 0.3648887899464583 0.42991599260351243\n"
     ]
    }
   ],
   "source": [
    "fn1=cal(163025,188014.34,52541.39)/(cal(163025,188014.34,52541.39)+cal(163025,143104.34,18330.95)+cal(163025,146148.34,18628.83))\n",
    "fn2=cal(163025,143104.34,18330.95)/(cal(163025,188014.34,52541.39)+cal(163025,143104.34,18330.95)+cal(163025,146148.34,18628.83))\n",
    "fn3=cal(163025,146148.34,18628.83)/(cal(163025,188014.34,52541.39)+cal(163025,143104.34,18330.95)+cal(163025,146148.34,18628.83))\n",
    "z1=fn1/(fn1+fn2+fn3)\n",
    "z2=fn2/(fn1+fn2+fn3)\n",
    "z3=fn3/(fn1+fn2+fn3)\n",
    "print(\"Expectations 1:\",z1,z2,z3)"
   ]
  },
  {
   "cell_type": "code",
   "execution_count": 13,
   "metadata": {},
   "outputs": [
    {
     "name": "stdout",
     "output_type": "stream",
     "text": [
      "Expectations 2: 0.1115293966574499 0.44773064081141956 0.44073996253113057\n"
     ]
    }
   ],
   "source": [
    "fn1=cal(144657,188014.34,52541.39)/(cal(144657,188014.34,52541.39)+cal(144657,143104.34,18330.95)+cal(144657,146148.34,18628.83))\n",
    "fn2=cal(144657,143104.34,18330.95)/(cal(144657,188014.34,52541.39)+cal(144657,143104.34,18330.95)+cal(144657,146148.34,18628.83))\n",
    "fn3=cal(144657,146148.34,18628.83)/(cal(144657,188014.34,52541.39)+cal(144657,143104.34,18330.95)+cal(144657,146148.34,18628.83))\n",
    "z1=fn1/(fn1+fn2+fn3)\n",
    "z2=fn2/(fn1+fn2+fn3)\n",
    "z3=fn3/(fn1+fn2+fn3)\n",
    "print(\"Expectations 2:\",z1,z2,z3)"
   ]
  },
  {
   "cell_type": "code",
   "execution_count": 8,
   "metadata": {},
   "outputs": [],
   "source": [
    "def zvalue(x,M1,M2,M3,std1,std2,std3):\n",
    "    return (cal(x,M1,std1)/(cal(x,M1,std1)+cal(x,M2,std2)+cal(x,M3,std3)))"
   ]
  },
  {
   "cell_type": "code",
   "execution_count": 60,
   "metadata": {},
   "outputs": [
    {
     "data": {
      "text/plain": [
       "0.1115293966574499"
      ]
     },
     "execution_count": 60,
     "metadata": {},
     "output_type": "execute_result"
    }
   ],
   "source": [
    "zvalue(144657,188014.34,143104.34,146148.34,52541.39,18330.95,18628.83)"
   ]
  },
  {
   "cell_type": "code",
   "execution_count": 105,
   "metadata": {},
   "outputs": [],
   "source": [
    "x=[157434,261952,144657,118777,147511,163025,120131,162745,155569]\n",
    "M1=188014.34\n",
    "std1=52541.39 \n",
    "M2=143104.34\n",
    "std2=18330.95\n",
    "M3=146148.34\n",
    "std3=18628.83\n"
   ]
  },
  {
   "cell_type": "code",
   "execution_count": 106,
   "metadata": {},
   "outputs": [
    {
     "name": "stdout",
     "output_type": "stream",
     "text": [
      "2.261776600430867 447861.55796556914\n"
     ]
    }
   ],
   "source": [
    "zcount=0\n",
    "zxcount=0\n",
    "for i in range(len(x)):\n",
    "    z1=zvalue(x[i],M1,M2,M3,std1,std2,std3)\n",
    "    zcount+=z1\n",
    "    zx=z1*x[i]\n",
    "    zxcount+=zx\n",
    "    i+=i\n",
    "print(zcount,zxcount)"
   ]
  },
  {
   "cell_type": "code",
   "execution_count": 2,
   "metadata": {},
   "outputs": [
    {
     "ename": "NameError",
     "evalue": "name 'zxcount' is not defined",
     "output_type": "error",
     "traceback": [
      "\u001b[0;31m---------------------------------------------------------------------------\u001b[0m",
      "\u001b[0;31mNameError\u001b[0m                                 Traceback (most recent call last)",
      "\u001b[0;32m<ipython-input-2-f299699bba8c>\u001b[0m in \u001b[0;36m<module>\u001b[0;34m\u001b[0m\n\u001b[0;32m----> 1\u001b[0;31m \u001b[0mMean1\u001b[0m\u001b[0;34m=\u001b[0m\u001b[0mzxcount\u001b[0m\u001b[0;34m/\u001b[0m\u001b[0mzcount\u001b[0m\u001b[0;34m\u001b[0m\u001b[0;34m\u001b[0m\u001b[0m\n\u001b[0m\u001b[1;32m      2\u001b[0m \u001b[0mMean1\u001b[0m\u001b[0;34m\u001b[0m\u001b[0;34m\u001b[0m\u001b[0m\n",
      "\u001b[0;31mNameError\u001b[0m: name 'zxcount' is not defined"
     ]
    }
   ],
   "source": [
    "Mean1=zxcount/zcount\n",
    "Mean1"
   ]
  },
  {
   "cell_type": "code",
   "execution_count": null,
   "metadata": {},
   "outputs": [],
   "source": []
  }
 ],
 "metadata": {
  "kernelspec": {
   "display_name": "Python 3 (ipykernel)",
   "language": "python",
   "name": "python3"
  },
  "language_info": {
   "codemirror_mode": {
    "name": "ipython",
    "version": 3
   },
   "file_extension": ".py",
   "mimetype": "text/x-python",
   "name": "python",
   "nbconvert_exporter": "python",
   "pygments_lexer": "ipython3",
   "version": "3.9.7"
  }
 },
 "nbformat": 4,
 "nbformat_minor": 4
}
