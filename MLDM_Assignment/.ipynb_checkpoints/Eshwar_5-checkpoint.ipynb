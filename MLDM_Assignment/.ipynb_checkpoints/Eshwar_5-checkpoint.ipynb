{
 "cells": [
  {
   "cell_type": "code",
   "execution_count": 1,
   "id": "f11455b6",
   "metadata": {},
   "outputs": [],
   "source": [
    "import pandas as pd\n",
    "from sklearn.cluster import DBSCAN\n",
    "from sklearn.preprocessing import StandardScaler"
   ]
  },
  {
   "cell_type": "code",
   "execution_count": 23,
   "id": "2be42683",
   "metadata": {},
   "outputs": [],
   "source": [
    "def dbscan_alg(df, cols):\n",
    "    scaler = StandardScaler()\n",
    "    country_clust_scaled = scaler.fit_transform(df[cols])\n",
    "    dbscan = DBSCAN(eps=0.3,min_samples=5)\n",
    "    df['cluster'] = dbscan.fit_predict(country_clust_scaled)\n",
    "    return df"
   ]
  },
  {
   "cell_type": "code",
   "execution_count": 24,
   "id": "ec05be7f",
   "metadata": {},
   "outputs": [
    {
     "name": "stdout",
     "output_type": "stream",
     "text": [
      "           country  cluster\n",
      "7        Australia        1\n",
      "28        Cameroon        2\n",
      "34           China        0\n",
      "58         Germany        1\n",
      "159  United States        1\n"
     ]
    }
   ],
   "source": [
    "if __name__ == ('__main__'):\n",
    "    df = pd.read_csv('Country-data.csv')\n",
    "    df = dbscan_alg(df.copy(), ['child_mort', 'income', 'life_expec'])\n",
    "    df_data = df.query('country==\"United States\"|country==\"Australia\"|country==\"China\"|country==\"Germany\"|country==\"Cameroon\"')[['country', 'cluster']]\n",
    "    df.drop('cluster',axis=1,inplace=True)\n",
    "    print(df_data)"
   ]
  },
  {
   "cell_type": "code",
   "execution_count": null,
   "id": "683ae716",
   "metadata": {},
   "outputs": [],
   "source": []
  }
 ],
 "metadata": {
  "kernelspec": {
   "display_name": "Python 3 (ipykernel)",
   "language": "python",
   "name": "python3"
  },
  "language_info": {
   "codemirror_mode": {
    "name": "ipython",
    "version": 3
   },
   "file_extension": ".py",
   "mimetype": "text/x-python",
   "name": "python",
   "nbconvert_exporter": "python",
   "pygments_lexer": "ipython3",
   "version": "3.9.7"
  }
 },
 "nbformat": 4,
 "nbformat_minor": 5
}
