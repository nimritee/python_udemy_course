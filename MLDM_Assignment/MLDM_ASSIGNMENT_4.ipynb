{
 "cells": [
  {
   "cell_type": "code",
   "execution_count": 1,
   "id": "fab335c4",
   "metadata": {},
   "outputs": [],
   "source": [
    "import pandas as pd\n",
    "import numpy as np\n",
    "import matplotlib.pyplot as plt"
   ]
  },
  {
   "cell_type": "code",
   "execution_count": 2,
   "id": "e3454a6e",
   "metadata": {},
   "outputs": [],
   "source": [
    "raw_data = pd.read_csv('Categorical.csv')\n",
    "data = raw_data.copy()"
   ]
  },
  {
   "cell_type": "code",
   "execution_count": 3,
   "id": "cdb344fb",
   "metadata": {},
   "outputs": [],
   "source": [
    "def calculate_distance(data,continents):\n",
    "    calculated_distance = {}\n",
    "    for continent in continents:\n",
    "        if continent != 'Europe':\n",
    "            a = data.loc[data['continent'] == 'Europe'].iloc[:,1:3]\n",
    "            b = data.loc[data['continent'] == continent].iloc[:,1:3]\n",
    "            distance = np.linalg.norm(np.array(a)-np.array(b)[:,np.newaxis])\n",
    "            calculated_distance[continent] = distance\n",
    "    return calculated_distance"
   ]
  },
  {
   "cell_type": "code",
   "execution_count": 4,
   "id": "1fae38c8",
   "metadata": {},
   "outputs": [],
   "source": [
    "def convert_data(data):\n",
    "    continent_list = {}\n",
    "    continents = list(data['continent'].unique())\n",
    "    distance = calculate_distance(data,continents)\n",
    "    distance['Europe'] = 0\n",
    "    converted_data = data.iloc[:, 3].map(distance)\n",
    "    return converted_data"
   ]
  },
  {
   "cell_type": "code",
   "execution_count": 5,
   "id": "8eff53d4",
   "metadata": {},
   "outputs": [],
   "source": [
    "def k_means(convert_data):\n",
    "    k = 4\n",
    "    no_of_iterations = 4\n",
    "    data_points = np.array(convert_data)\n",
    "\n",
    "    #Step 1: Initialize random points, as centroids of the cluster\n",
    "    copy_points = list(set(data_points.copy()))\n",
    "    np.random.shuffle(copy_points)\n",
    "    centroid = np.array(copy_points[:k])\n",
    "\n",
    "#     print(\"The centroid has been randomly assigned as: \\n {}\".format(centroid))\n",
    "\n",
    "    for i in range(no_of_iterations):\n",
    "\n",
    "        #Step 2: Compute the distance between, each data point and centroid, and assign it to the closest centroid\n",
    "        distances = np.sqrt(((data_points - centroid[:,np.newaxis])**2))\n",
    "        re_assigned_cluster = np.argmin(distances, axis=0)\n",
    "#         print(\"The closest cluster: \\n {}\".format(re_assigned_cluster))\n",
    "\n",
    "        #Step 3: Re-compute the centroid, to move closer to the middle of the cluster\n",
    "        centroid = np.array([data_points[re_assigned_cluster==k].mean(axis=0) for k in range(centroid.shape[0])])\n",
    "\n",
    "#         print(\"The new centroids are:\\n {}\".format(centroid))\n",
    "\n",
    "    return re_assigned_cluster"
   ]
  },
  {
   "cell_type": "code",
   "execution_count": 6,
   "id": "2a720e70",
   "metadata": {},
   "outputs": [
    {
     "data": {
      "text/plain": [
       "<matplotlib.collections.PathCollection at 0x7f8fbecb37c0>"
      ]
     },
     "execution_count": 6,
     "metadata": {},
     "output_type": "execute_result"
    },
    {
     "data": {
      "image/png": "[encoded data removed]",
      "text/plain": [
       "<Figure size 432x288 with 1 Axes>"
      ]
     },
     "metadata": {
      "needs_background": "light"
     },
     "output_type": "display_data"
    }
   ],
   "source": [
    "# Calculate the distance between continents using the latitudes and longitudes\n",
    "convert_data = convert_data(data)\n",
    "\n",
    "#Find the clusters, using K-Means Algorithm\n",
    "identified_cluster = k_means(convert_data)\n",
    "data['identified_cluster'] = identified_cluster\n",
    "\n",
    "#Plot the graph\n",
    "plt.xlabel(\"Latitude\")\n",
    "plt.ylabel(\"Longitude\")\n",
    "plt.title(\"Visualization Plot\")\n",
    "plt.scatter(data[data['identified_cluster']==0]['Latitude'],data[data['identified_cluster']==0]['Longitude'], c='#FF0000')\n",
    "plt.scatter(data[data['identified_cluster']==1]['Latitude'],data[data['identified_cluster']==1]['Longitude'], c='#00FF00')\n",
    "plt.scatter(data[data['identified_cluster']==2]['Latitude'],data[data['identified_cluster']==2]['Longitude'], c='#ADD8E6')\n",
    "plt.scatter(data[data['identified_cluster']==3]['Latitude'],data[data['identified_cluster']==3]['Longitude'], c='#000000')"
   ]
  }
 ],
 "metadata": {
  "kernelspec": {
   "display_name": "Python 3 (ipykernel)",
   "language": "python",
   "name": "python3"
  },
  "language_info": {
   "codemirror_mode": {
    "name": "ipython",
    "version": 3
   },
   "file_extension": ".py",
   "mimetype": "text/x-python",
   "name": "python",
   "nbconvert_exporter": "python",
   "pygments_lexer": "ipython3",
   "version": "3.9.7"
  }
 },
 "nbformat": 4,
 "nbformat_minor": 5
}
