{
 "cells": [
  {
   "cell_type": "code",
   "execution_count": 36,
   "id": "b60c11a1",
   "metadata": {},
   "outputs": [],
   "source": [
    "import pandas as pd\n",
    "import numpy as np\n",
    "import matplotlib.pyplot as plt\n",
    "import seaborn as sns"
   ]
  },
  {
   "cell_type": "code",
   "execution_count": 45,
   "id": "25f90238",
   "metadata": {},
   "outputs": [],
   "source": [
    "#Read the provided csv file into the python dataframe \n",
    "# myData = pd.read_csv(\"iris.csv\")\n",
    "myData = {'height':[5.4,5.6,4.8,5.11],'weight':[52,58.5,42.6,60],'age':[21,26,23,29]}\n",
    "myData = pd.DataFrame(myData)\n"
   ]
  },
  {
   "cell_type": "code",
   "execution_count": 46,
   "id": "63756e03",
   "metadata": {},
   "outputs": [],
   "source": [
    "#Function to calculate and return the Pairwise Pearson correlation coefficients\n",
    "def compute_pairwise_pearson_correlation_coefficients(x,y):\n",
    "    coefficients = x.corr(y, method='pearson')\n",
    "    return coefficients"
   ]
  },
  {
   "cell_type": "code",
   "execution_count": 47,
   "id": "880b44f6",
   "metadata": {
    "scrolled": true
   },
   "outputs": [
    {
     "name": "stdout",
     "output_type": "stream",
     "text": [
      "The z-score standardization on the data: \n",
      "       height    weight\n",
      "0  0.494491 -0.161016\n",
      "1  1.067815  0.659848\n",
      "2 -1.225479 -1.348110\n",
      "3 -0.336827  0.849278\n",
      "The covarinace matrix for the standardized data: \n",
      " [[1.         0.66366489]\n",
      " [0.66366489 1.        ]]\n"
     ]
    }
   ],
   "source": [
    "# pearsonCoefficients = compute_pairwise_pearson_correlation_coefficients(myData['sepal_length'],myData['sepal_width'])\n",
    "# print(\"The Pearson correlation coefficients, between the variable is: \",pearsonCoefficients)\n",
    "# correlationGraph = graph_to_visualize_correlation(myData['sepal_length'],myData['sepal_width'])\n",
    "# correlationMatrix = visualize_correlation_matrix(myData['sepal_length'],myData['sepal_width'])\n",
    "zscoreStandardization = compute_z_score(myData)\n",
    "print(\"The z-score standardization on the data: \\n \",zscoreStandardization)\n",
    "covarianceMatrix = compute_covarinace_matrix(zscoreStandardization)\n",
    "print(\"The covarinace matrix for the standardized data: \\n\",covarianceMatrix)\n",
    "# eigen_values_vector = compute_eigen_values_vectors(covarianceMatrix)\n",
    "# print(\"The eigenvalues for the covariance matrix: \\n\",eigen_values_vector['eigen_values'])\n",
    "# print(\"The eigenvectors for the covariance matrix: \\n\",eigen_values_vector['eigen_vectors'])"
   ]
  },
  {
   "cell_type": "code",
   "execution_count": 65,
   "id": "30d40804",
   "metadata": {},
   "outputs": [],
   "source": [
    "#Function to plot the graph to visualize the correlation between two variables\n",
    "def graph_to_visualize_correlation(x,y):\n",
    "    plt.scatter(x, y, label='Correlation = {}'.format(x.corr(y))) \n",
    "    plt.xlabel('sepal_length')\n",
    "    plt.ylabel('sepal_width')\n",
    "    plt.title('Graph to visualize the Correlation between two variables')\n",
    "    plt.legend()\n",
    "    plt.show()"
   ]
  },
  {
   "cell_type": "code",
   "execution_count": 66,
   "id": "4769cd8b",
   "metadata": {},
   "outputs": [],
   "source": [
    "#Function to visualize the correlation matrix\n",
    "def visualize_correlation_matrix(x,y):\n",
    "    var1Array = np.array(x)\n",
    "    var2Array = np.array(y)\n",
    "    correlationMatrix = np.corrcoef(var1Array,var2Array)\n",
    "    correlationMatrix = pd.DataFrame(data=correlationMatrix,columns=[x.name,y.name])\n",
    "    correlationMatrix.columns =[x.name,y.name]\n",
    "    print('The Correlation Matrix is: \\n{}'.format(correlationMatrix))\n",
    "    sns.heatmap(correlationMatrix, annot = True)\n",
    "    plt.show()"
   ]
  },
  {
   "cell_type": "code",
   "execution_count": 39,
   "id": "d7406cb8",
   "metadata": {},
   "outputs": [],
   "source": [
    "#Function to perform z-score standardization on the data\n",
    "def compute_z_score(data):\n",
    "#     print(data)\n",
    "    zdataScore = (data-data.mean())/(data.std())\n",
    "    zdataResult = pd.DataFrame(zdataScore,index=data.index,columns=data.columns)\n",
    "    return zdataResult"
   ]
  },
  {
   "cell_type": "code",
   "execution_count": 44,
   "id": "9d05ce08",
   "metadata": {},
   "outputs": [],
   "source": [
    "#Function to compute covariance matrix for the standardized data\n",
    "def compute_covarinace_matrix(standardizeData):\n",
    "    covarianceMatrix = np.cov(standardizeData,rowvar = False)\n",
    "    return covarianceMatrix"
   ]
  },
  {
   "cell_type": "code",
   "execution_count": 69,
   "id": "cff3ef75",
   "metadata": {},
   "outputs": [],
   "source": [
    "#Function to compute eigenvalues and eigenvectors for the covariance matrix\n",
    "def compute_eigen_values_vectors(covarianceMatrix):\n",
    "    eigen_values, eigen_vectors = np.linalg.eig(covarianceMatrix)\n",
    "    sorted_index = np.argsort(eigen_values)[::-1]\n",
    "    sorted_eigen_value = eigen_values[sorted_index]\n",
    "    sorted_eigenvectors = eigen_vectors[:,sorted_index]\n",
    "    return {\"eigen_values\":eigen_values,\"eigen_vectors\":eigen_vectors}"
   ]
  },
  {
   "cell_type": "code",
   "execution_count": null,
   "id": "69b6ce56",
   "metadata": {},
   "outputs": [],
   "source": []
  }
 ],
 "metadata": {
  "kernelspec": {
   "display_name": "Python 3 (ipykernel)",
   "language": "python",
   "name": "python3"
  },
  "language_info": {
   "codemirror_mode": {
    "name": "ipython",
    "version": 3
   },
   "file_extension": ".py",
   "mimetype": "text/x-python",
   "name": "python",
   "nbconvert_exporter": "python",
   "pygments_lexer": "ipython3",
   "version": "3.9.7"
  }
 },
 "nbformat": 4,
 "nbformat_minor": 5
}
