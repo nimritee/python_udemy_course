{
 "cells": [
  {
   "cell_type": "code",
   "execution_count": 1,
   "id": "eabc57ce",
   "metadata": {},
   "outputs": [],
   "source": [
    "import pandas as pd\n",
    "import numpy as np\n",
    "import matplotlib.pyplot as plt\n",
    "import seaborn as sns"
   ]
  },
  {
   "cell_type": "code",
   "execution_count": 2,
   "id": "a8adfc6b",
   "metadata": {},
   "outputs": [],
   "source": [
    "#Read the provided csv file into the python dataframe \n",
    "myData = pd.read_csv(\"iris.csv\")"
   ]
  },
  {
   "cell_type": "code",
   "execution_count": 3,
   "id": "a3c6c320",
   "metadata": {},
   "outputs": [],
   "source": [
    "#Function to calculate and return the Pairwise Pearson correlation coefficients\n",
    "def compute_pairwise_pearson_correlation_coefficients(x,y):\n",
    "    coefficients = x.corr(y, method='pearson')\n",
    "    return coefficients"
   ]
  },
  {
   "cell_type": "code",
   "execution_count": 4,
   "id": "445d412c",
   "metadata": {},
   "outputs": [],
   "source": [
    "#Function to plot the graph to visualize the correlation between two variables\n",
    "def graph_to_visualize_correlation(x,y):\n",
    "    plt.scatter(x, y, label='Correlation = {}'.format(x.corr(y))) \n",
    "    plt.xlabel('sepal_length')\n",
    "    plt.ylabel('sepal_width')\n",
    "    plt.title('Graph to visualize the Correlation between two variables')\n",
    "    plt.legend()\n",
    "    plt.show()"
   ]
  },
  {
   "cell_type": "code",
   "execution_count": 5,
   "id": "d37467c2",
   "metadata": {},
   "outputs": [],
   "source": [
    "#Function to visualize the correlation matrix\n",
    "def visualize_correlation_matrix(x,y):\n",
    "    var1Array = np.array(x)\n",
    "    var2Array = np.array(y)\n",
    "    correlationMatrix = np.corrcoef(var1Array,var2Array)\n",
    "    correlationMatrix = pd.DataFrame(data=correlationMatrix,columns=[x.name,y.name])\n",
    "    correlationMatrix.columns =[x.name,y.name]\n",
    "    print('The Correlation Matrix is: \\n{}'.format(correlationMatrix))\n",
    "    sns.heatmap(correlationMatrix, annot = True)\n",
    "    plt.show()"
   ]
  },
  {
   "cell_type": "code",
   "execution_count": 6,
   "id": "5fb56fe5",
   "metadata": {},
   "outputs": [],
   "source": [
    "#Function to perform z-score standardization on the data\n",
    "def compute_z_score(data):\n",
    "    zdata = data.select_dtypes(float)\n",
    "    zdataScore = (zdata-zdata.mean())/(zdata.std())\n",
    "    zdataResult = pd.DataFrame(zdataScore,index=zdata.index,columns=zdata.columns)\n",
    "    return zdataResult"
   ]
  },
  {
   "cell_type": "code",
   "execution_count": 7,
   "id": "bb1452e1",
   "metadata": {},
   "outputs": [],
   "source": [
    "#Function to compute covariance matrix for the standardized data\n",
    "def compute_covarinace_matrix(standardizeData):\n",
    "    covarianceMatrix = np.cov(standardizeData,rowvar = False)\n",
    "    return covarianceMatrix"
   ]
  },
  {
   "cell_type": "code",
   "execution_count": 8,
   "id": "190aa881",
   "metadata": {},
   "outputs": [],
   "source": [
    "#Function to compute eigenvalues and eigenvectors for the covariance matrix\n",
    "def compute_eigen_values_vectors(covarianceMatrix):\n",
    "    eigen_values, eigen_vectors = np.linalg.eig(covarianceMatrix)\n",
    "    sorted_index = np.argsort(eigen_values)[::-1]\n",
    "    sorted_eigen_value = eigen_values[sorted_index]\n",
    "    sorted_eigenvectors = eigen_vectors[:,sorted_index]\n",
    "    return {\"eigen_values\":eigen_values,\"eigen_vectors\":eigen_vectors}"
   ]
  },
  {
   "cell_type": "code",
   "execution_count": 9,
   "id": "ea3ccced",
   "metadata": {},
   "outputs": [
    {
     "name": "stdout",
     "output_type": "stream",
     "text": [
      "The Pearson correlation coefficients, between the variable is:  -0.11756978413300208\n"
     ]
    },
    {
     "data": {
      "image/png": "[encoded data removed]",
      "text/plain": [
       "<Figure size 432x288 with 1 Axes>"
      ]
     },
     "metadata": {
      "needs_background": "light"
     },
     "output_type": "display_data"
    },
    {
     "name": "stdout",
     "output_type": "stream",
     "text": [
      "The Correlation Matrix is: \n",
      "   sepal_length  sepal_width\n",
      "0       1.00000     -0.11757\n",
      "1      -0.11757      1.00000\n"
     ]
    },
    {
     "data": {
      "image/png": "[encoded data removed]",
      "text/plain": [
       "<Figure size 432x288 with 2 Axes>"
      ]
     },
     "metadata": {
      "needs_background": "light"
     },
     "output_type": "display_data"
    },
    {
     "name": "stdout",
     "output_type": "stream",
     "text": [
      "The z-score standardization on the data: \n",
      "       sepal_length  sepal_width  petal_length  petal_width\n",
      "0       -0.897674     1.015602     -1.335752    -1.311052\n",
      "1       -1.139200    -0.131539     -1.335752    -1.311052\n",
      "2       -1.380727     0.327318     -1.392399    -1.311052\n",
      "3       -1.501490     0.097889     -1.279104    -1.311052\n",
      "4       -1.018437     1.245030     -1.335752    -1.311052\n",
      "..            ...          ...           ...          ...\n",
      "145      1.034539    -0.131539      0.816859     1.443994\n",
      "146      0.551486    -1.278680      0.703564     0.919223\n",
      "147      0.793012    -0.131539      0.816859     1.050416\n",
      "148      0.430722     0.786174      0.930154     1.443994\n",
      "149      0.068433    -0.131539      0.760211     0.788031\n",
      "\n",
      "[150 rows x 4 columns]\n",
      "The covarinace matrix for the standardized data: \n",
      " [[ 1.         -0.11756978  0.87175378  0.81794113]\n",
      " [-0.11756978  1.         -0.4284401  -0.36612593]\n",
      " [ 0.87175378 -0.4284401   1.          0.96286543]\n",
      " [ 0.81794113 -0.36612593  0.96286543  1.        ]]\n",
      "The eigenvalues for the covariance matrix: \n",
      " [2.91849782 0.91403047 0.14675688 0.02071484]\n",
      "The eigenvectors for the covariance matrix: \n",
      " [[ 0.52106591 -0.37741762 -0.71956635  0.26128628]\n",
      " [-0.26934744 -0.92329566  0.24438178 -0.12350962]\n",
      " [ 0.5804131  -0.02449161  0.14212637 -0.80144925]\n",
      " [ 0.56485654 -0.06694199  0.63427274  0.52359713]]\n"
     ]
    }
   ],
   "source": [
    "pearsonCoefficients = compute_pairwise_pearson_correlation_coefficients(myData['sepal_length'],myData['sepal_width'])\n",
    "print(\"The Pearson correlation coefficients, between the variable is: \",pearsonCoefficients)\n",
    "correlationGraph = graph_to_visualize_correlation(myData['sepal_length'],myData['sepal_width'])\n",
    "correlationMatrix = visualize_correlation_matrix(myData['sepal_length'],myData['sepal_width'])\n",
    "zscoreStandardization = compute_z_score(myData)\n",
    "print(\"The z-score standardization on the data: \\n \",zscoreStandardization)\n",
    "covarianceMatrix = compute_covarinace_matrix(zscoreStandardization)\n",
    "print(\"The covarinace matrix for the standardized data: \\n\",covarianceMatrix)\n",
    "eigen_values_vector = compute_eigen_values_vectors(covarianceMatrix)\n",
    "print(\"The eigenvalues for the covariance matrix: \\n\",eigen_values_vector['eigen_values'])\n",
    "print(\"The eigenvectors for the covariance matrix: \\n\",eigen_values_vector['eigen_vectors'])"
   ]
  }
 ],
 "metadata": {
  "kernelspec": {
   "display_name": "Python 3 (ipykernel)",
   "language": "python",
   "name": "python3"
  },
  "language_info": {
   "codemirror_mode": {
    "name": "ipython",
    "version": 3
   },
   "file_extension": ".py",
   "mimetype": "text/x-python",
   "name": "python",
   "nbconvert_exporter": "python",
   "pygments_lexer": "ipython3",
   "version": "3.9.7"
  }
 },
 "nbformat": 4,
 "nbformat_minor": 5
}
